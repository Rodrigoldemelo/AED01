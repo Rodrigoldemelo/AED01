{
 "cells": [
  {
   "cell_type": "code",
   "execution_count": null,
   "id": "a11b4808-31e7-42a9-897b-928c6d62a072",
   "metadata": {},
   "outputs": [],
   "source": [
    "#Exercício 11: Faça um programa que lê as duas notas parciais obtidas por um aluno numa disciplina ao longo de um semestre, e calcule\n",
    "#a sua média. A atribuição de conceitos obedece à tabela abaixo:\n",
    "#a. Média de Aproveitamento Conceito\n",
    "#b. Entre 9.0 e 10.0 A\n",
    "#c. Entre 7.5 e 9.0 B\n",
    "#d. Entre 6.0 e 7.5 C\n",
    "#e. Entre 4.0 e 6.0 D\n",
    "#f. Entre 4.0 e zero E"
   ]
  },
  {
   "cell_type": "code",
   "execution_count": 1,
   "id": "f9e24ee9-68d6-4e15-b275-05a6ad6cb160",
   "metadata": {},
   "outputs": [
    {
     "name": "stdin",
     "output_type": "stream",
     "text": [
      "Digite a nota do primeiro semestre:  4\n",
      "Digite a nota do segundo semestre:  8\n"
     ]
    },
    {
     "name": "stdout",
     "output_type": "stream",
     "text": [
      "Sua média foi de 6.0, ou seja, C. Bem meia boca, mas passou.\n"
     ]
    }
   ],
   "source": [
    "nota1 = float(input(\"Digite a nota do primeiro semestre: \"))\n",
    "nota2 = float(input(\"Digite a nota do segundo semestre: \"))\n",
    "media = (nota1 + nota2) / 2\n",
    "if media < 4:\n",
    "    print(f\"Sua média foi de {media}, ou seja, E. Se esforce mais.\")\n",
    "elif media >=4 and media < 6:\n",
    "    print(f\"Sua média foi de {media}, ou seja, D. Se esforce mais.\")\n",
    "elif media >=6 and media < 7.5:\n",
    "    print(f\"Sua média foi de {media}, ou seja, C. Bem meia boca, mas passou.\")\n",
    "elif media >7.5 and media < 9:\n",
    "    print(f\"Sua média foi de {media}, ou seja, B. Muito bem.\")\n",
    "else:\n",
    "    print(f\"Sua média foi de {media}, ou seja, A. Parabéns, seu nerd.\")"
   ]
  },
  {
   "cell_type": "code",
   "execution_count": null,
   "id": "7f5280c3-d73e-4e86-b1a0-a21bcea7a9f0",
   "metadata": {},
   "outputs": [],
   "source": [
    "#Exercício 12: Faça um programa que peça uma nota, entre zero e dez. Mostre uma mensagem caso o valor seja inválido e continue\n",
    "#pedindo até que o usuário informe um valor válido."
   ]
  },
  {
   "cell_type": "code",
   "execution_count": 2,
   "id": "c4b3be69-7833-4e8d-9223-4d94294f53e3",
   "metadata": {},
   "outputs": [
    {
     "name": "stdin",
     "output_type": "stream",
     "text": [
      "Digite uma nota entre 0 e 10:  9\n"
     ]
    },
    {
     "name": "stdout",
     "output_type": "stream",
     "text": [
      "A nota digitada foi 9.0.\n"
     ]
    }
   ],
   "source": [
    "while True:\n",
    "    nota = float(input(\"Digite uma nota entre 0 e 10: \"))\n",
    "    if 0 <= nota <= 10:\n",
    "        print(f\"A nota digitada foi {nota}.\")\n",
    "        break\n",
    "    else:\n",
    "        print(\"Valor inválido. Tente novamente.\")"
   ]
  },
  {
   "cell_type": "code",
   "execution_count": null,
   "id": "c074aad1-4474-4862-9540-e115523b944a",
   "metadata": {},
   "outputs": [],
   "source": [
    "#Exercício 13: Faça um programa que leia um nome de usuário e a sua senha e não aceite a senha igual ao nome do usuário, mostrando\n",
    "#uma mensagem de erro e voltando a pedir as informações."
   ]
  },
  {
   "cell_type": "code",
   "execution_count": 6,
   "id": "28ea5afe-edb0-44d6-93e8-203e43068c19",
   "metadata": {},
   "outputs": [
    {
     "name": "stdin",
     "output_type": "stream",
     "text": [
      "Digite seu nome de usuário:  Rodrigo\n",
      "Digite sua senha:  Rodrigo\n"
     ]
    },
    {
     "name": "stdout",
     "output_type": "stream",
     "text": [
      "Nome de usuário e senha são iguais. Tente novamente\n"
     ]
    },
    {
     "name": "stdin",
     "output_type": "stream",
     "text": [
      "Digite seu nome de usuário:  Rodrigo\n",
      "Digite sua senha:  52nma1\n"
     ]
    },
    {
     "name": "stdout",
     "output_type": "stream",
     "text": [
      "Nome de usuário e senha cadastrados corretamente\n"
     ]
    }
   ],
   "source": [
    "while True:\n",
    "    nome = str(input(\"Digite seu nome de usuário: \"))\n",
    "    senha = str(input(\"Digite sua senha: \"))\n",
    "    if nome == senha:\n",
    "        print(\"Nome de usuário e senha são iguais. Tente novamente\")\n",
    "    else:\n",
    "        print(\"Nome de usuário e senha cadastrados corretamente\")\n",
    "        break\n",
    "        "
   ]
  },
  {
   "cell_type": "code",
   "execution_count": null,
   "id": "822a7bba-99b5-4b57-badc-f7a3210beef6",
   "metadata": {},
   "outputs": [],
   "source": [
    "#Exercício 14: Faça um programa que leia e valide as seguintes informações:\n",
    "#a. Nome: maior que 3 caracteres;\n",
    "#b. Idade: entre 0 e 150;\n",
    "#c. Salário: maior que zero;\n",
    "#d. Sexo: 'f' ou 'm';\n",
    "#e. Estado Civil: 's', 'c', 'v', 'd';"
   ]
  },
  {
   "cell_type": "code",
   "execution_count": 7,
   "id": "62c86579-0a65-4e66-b576-8864f8fa83ec",
   "metadata": {},
   "outputs": [
    {
     "name": "stdin",
     "output_type": "stream",
     "text": [
      "Digite seu nome (mais de 3 caracteres):  Rodrigo\n",
      "Digite sua idade (entre 0 e 150):  45\n",
      "Digite seu salário (maior que zero):  3300\n",
      "Digite seu sexo (f ou m):  m\n",
      "Digite seu estado civil (s, c, v ou d):  s\n"
     ]
    },
    {
     "name": "stdout",
     "output_type": "stream",
     "text": [
      "\n",
      "Seu nome é Rodrigo, você tem 45 anos, recebe R$3300.00, se identifica como homem e está atualmente solteiro(a).\n"
     ]
    }
   ],
   "source": [
    "while True:\n",
    "    nome = input(\"Digite seu nome (mais de 3 caracteres): \")\n",
    "    if len(nome) <= 3:\n",
    "        print(\"O nome deve ter mais de 3 caracteres. Tente de novo.\")\n",
    "        continue\n",
    "\n",
    "    idade = int(input(\"Digite sua idade (entre 0 e 150): \"))\n",
    "    if idade < 0 or idade > 150:\n",
    "        print(\"Idade inválida. Digite um valor entre 0 e 150.\")\n",
    "        continue\n",
    "\n",
    "    salario = float(input(\"Digite seu salário (maior que zero): \"))\n",
    "    if salario <= 0:\n",
    "        print(\"Salário inválido. Ninguém pode receber R$ 0,00 de salário.\")\n",
    "        continue\n",
    "\n",
    "    sexo = input(\"Digite seu sexo (f ou m): \").lower()\n",
    "    if sexo not in (\"f\", \"m\"):\n",
    "        print(\"Sexo inválido: Digite apenas 'f' para feminino ou 'm' para masculino.\")\n",
    "        continue\n",
    "\n",
    "    estado = input(\"Digite seu estado civil (s, c, v ou d): \").lower()\n",
    "    if estado not in (\"s\", \"c\", \"v\", \"d\"):\n",
    "        print(\"Estado Civil inválido: Escolha entre 's', 'c', 'v' ou 'd'.\")\n",
    "        continue\n",
    "\n",
    "    sexo = \"mulher\" if sexo == \"f\" else \"homem\"\n",
    "    estado_civil = {\n",
    "        \"s\": \"solteiro(a)\",\n",
    "        \"c\": \"casado(a)\",\n",
    "        \"v\": \"viúvo(a)\",\n",
    "        \"d\": \"divorciado(a)\"\n",
    "    }[estado]\n",
    "\n",
    "    # Exibindo os dados validados:\n",
    "    print(f\"\\nSeu nome é {nome}, você tem {idade} anos, recebe R${salario:.2f}, se identifica como {sexo} e está atualmente {estado_civil}.\")\n",
    "    break"
   ]
  },
  {
   "cell_type": "code",
   "execution_count": null,
   "id": "b2de3f52-ce2d-4907-b0f4-07df1261e46d",
   "metadata": {},
   "outputs": [],
   "source": [
    "#Exercício 15: Supondo que a população de um país A seja da ordem de 80000 habitantes com uma taxa anual de crescimento de 3% e\n",
    "#que a população de B seja 200000 habitantes com uma taxa de crescimento de 1.5%. Faça um programa que calcule e\n",
    "#escreva o número de anos necessários para que a população do país A ultrapasse ou iguale a população do país B,\n",
    "#mantidas as taxas de crescimento."
   ]
  },
  {
   "cell_type": "code",
   "execution_count": 8,
   "id": "51e44557-c41e-436f-8a31-6e22073f6cdb",
   "metadata": {},
   "outputs": [
    {
     "name": "stdout",
     "output_type": "stream",
     "text": [
      "Anos necessários: 63\n",
      "População final do país A: 515033\n",
      "População final do país B: 510964\n"
     ]
    }
   ],
   "source": [
    "populacao_A = 80000\n",
    "populacao_B = 200000\n",
    "anos = 0\n",
    "while populacao_A < populacao_B:\n",
    "    populacao_A *= 1.03\n",
    "    populacao_B *= 1.015\n",
    "    anos += 1\n",
    "\n",
    "print(f'Anos necessários: {anos}')\n",
    "print(f'População final do país A: {int(populacao_A)}')\n",
    "print(f'População final do país B: {int(populacao_B)}')"
   ]
  },
  {
   "cell_type": "code",
   "execution_count": null,
   "id": "9e63b5f2-0b51-405d-ba49-b2cdaa01fb6b",
   "metadata": {},
   "outputs": [],
   "source": [
    "#Exercício 16: Faça um programa que leia 5 números e informe a soma e a média dos números."
   ]
  },
  {
   "cell_type": "code",
   "execution_count": 11,
   "id": "eff6dd9d-975c-4e50-b31d-935d2d9a564d",
   "metadata": {},
   "outputs": [
    {
     "name": "stdin",
     "output_type": "stream",
     "text": [
      "Digite um número:  1\n",
      "Digite um número:  2\n",
      "Digite um número:  3\n",
      "Digite um número:  4\n",
      "Digite um número:  5\n"
     ]
    },
    {
     "name": "stdout",
     "output_type": "stream",
     "text": [
      "O maior número digitado foi: 5.0\n",
      "A média dos números é 3.0.\n",
      "A soma dos números é 15.0.\n"
     ]
    }
   ],
   "source": [
    "numeros = []\n",
    "for _ in range(1, 6):\n",
    "    numero = float(input(\"Digite um número: \"))\n",
    "    numeros.append(numero)\n",
    "maior_numero = max(numeros)\n",
    "soma = sum(numeros)\n",
    "media = soma / 5\n",
    "print(f\"O maior número digitado foi: {maior_numero}\")\n",
    "print(f\"A média dos números é {media}.\")\n",
    "print(f\"A soma dos números é {soma}.\")"
   ]
  },
  {
   "cell_type": "code",
   "execution_count": null,
   "id": "a1810631-ab45-490e-aa71-661f6eef0abc",
   "metadata": {},
   "outputs": [],
   "source": [
    "#Exercício 17: Desenvolva um gerador de tabuada, capaz de gerar a tabuada de qualquer número inteiro entre 1 a 10. O usuário deve\n",
    "#informar de qual numero ele deseja ver a tabuada. A saída deve ser conforme o exemplo abaixo:\n",
    "#a. Tabuada de 5:\n",
    "#b. 5 X 1 = 5\n",
    "#c. 5 X 2 = 10\n",
    "#d. ...\n",
    "#e. 5 X 10 = 50"
   ]
  },
  {
   "cell_type": "code",
   "execution_count": 12,
   "id": "e6ef31da-72ac-4f88-ba4a-43d40ba87899",
   "metadata": {},
   "outputs": [
    {
     "name": "stdin",
     "output_type": "stream",
     "text": [
      "Digite um número entre 1 e 10 para ver a tabuada:  7\n"
     ]
    },
    {
     "name": "stdout",
     "output_type": "stream",
     "text": [
      "\n",
      "Tabuada de 7:\n",
      "7 X 1 = 7\n",
      "7 X 2 = 14\n",
      "7 X 3 = 21\n",
      "7 X 4 = 28\n",
      "7 X 5 = 35\n",
      "7 X 6 = 42\n",
      "7 X 7 = 49\n",
      "7 X 8 = 56\n",
      "7 X 9 = 63\n",
      "7 X 10 = 70\n"
     ]
    }
   ],
   "source": [
    "n = int(input(\"Digite um número entre 1 e 10 para ver a tabuada: \"))\n",
    "\n",
    "print(f\"\\nTabuada de {n}:\")\n",
    "for i in range(1, 11):\n",
    "    resultado = i * n\n",
    "    print(f\"{n} X {i} = {resultado}\")"
   ]
  },
  {
   "cell_type": "code",
   "execution_count": null,
   "id": "c97c179d-e730-4504-b6bd-ae5c2078a183",
   "metadata": {},
   "outputs": [],
   "source": [
    "#Exercício 18: A série de Fibonacci é formada pela seqüência 1,1,2,3,5,8,13,21,34,55,... Faça um programa capaz de gerar a série até o\n",
    "#n−ésimo termo."
   ]
  },
  {
   "cell_type": "code",
   "execution_count": 13,
   "id": "cc0d2fc5-4758-4254-bb72-8dd7cbebdd19",
   "metadata": {},
   "outputs": [
    {
     "name": "stdin",
     "output_type": "stream",
     "text": [
      "Quantos termos da série de Fibonacci você deseja ver?  25\n"
     ]
    },
    {
     "name": "stdout",
     "output_type": "stream",
     "text": [
      "Série de Fibonacci:\n",
      "[1, 1, 2, 3, 5, 8, 13, 21, 34, 55, 89, 144, 233, 377, 610, 987, 1597, 2584, 4181, 6765, 10946, 17711, 28657, 46368, 75025]\n"
     ]
    }
   ],
   "source": [
    "n = int(input(\"Quantos termos da série de Fibonacci você deseja ver? \"))\n",
    "\n",
    "# Verificação simples para valores menores que 1\n",
    "if n <= 0:\n",
    "    print(\"Por favor, digite um valor maior que 0.\")\n",
    "else:\n",
    "    # Inicializando os dois primeiros termos\n",
    "    fibonacci = [1, 1]\n",
    "\n",
    "    # Gerando a série até o n-ésimo termo\n",
    "    for i in range(2, n):\n",
    "        proximo_termo = fibonacci[i - 1] + fibonacci[i - 2]\n",
    "        fibonacci.append(proximo_termo)\n",
    "\n",
    "    # Exibindo a série\n",
    "    print(\"Série de Fibonacci:\")\n",
    "    print(fibonacci[:n])"
   ]
  },
  {
   "cell_type": "code",
   "execution_count": null,
   "id": "a57c9e2a-94b0-495f-a2c3-d2d798c7e63d",
   "metadata": {},
   "outputs": [],
   "source": [
    "#Exercício 19: Faça um programa que calcule o mostre a média aritmética de N notas."
   ]
  },
  {
   "cell_type": "code",
   "execution_count": 14,
   "id": "b9143c4b-a087-46df-b294-f5c97ebc8521",
   "metadata": {},
   "outputs": [
    {
     "name": "stdin",
     "output_type": "stream",
     "text": [
      "Digite a quantidade de notas a serem calculadas:  5\n",
      "Digite a nota 1:  3\n",
      "Digite a nota 2:  7\n",
      "Digite a nota 3:  6\n",
      "Digite a nota 4:  5\n",
      "Digite a nota 5:  9\n"
     ]
    },
    {
     "name": "stdout",
     "output_type": "stream",
     "text": [
      "A média das notas é: 6.00\n"
     ]
    }
   ],
   "source": [
    "notas = []\n",
    "qtdd = int(input(\"Digite a quantidade de notas a serem calculadas: \"))\n",
    "for i in range(qtdd):\n",
    "    nota = float(input(f\"Digite a nota {i + 1}: \"))\n",
    "    notas.append(nota)\n",
    "media = sum(notas) / qtdd\n",
    "print(f\"A média das notas é: {media:.2f}\")"
   ]
  },
  {
   "cell_type": "code",
   "execution_count": null,
   "id": "248d2164-5871-42ec-8eaa-7a879b1837e3",
   "metadata": {},
   "outputs": [],
   "source": [
    "#Exercício 20: O Sr. Manoel Joaquim possui uma grande loja de artigos de R$ 1,99, com cerca de 10 caixas. Para agilizar o cálculo de\n",
    "#quanto cada cliente deve pagar ele desenvolveu um tabela que contém o número de itens que o cliente comprou e ao lado\n",
    "#o valor da conta. Desta forma a atendente do caixa precisa apenas contar quantos itens o cliente está levando e olhar na\n",
    "#tabela de preços. Você foi contratado para desenvolver o programa que monta esta tabela de preços, que conterá os preços\n",
    "#de 1 até 50 produtos, conforme o exemplo abaixo:\n",
    "#a. Lojas Quase Dois - Tabela de preços\n",
    "#b. 1 - R$ 1.99\n",
    "#c. 2 - R$ 3.98\n",
    "#d. ...\n",
    "#e. 50 - R$ 99.50"
   ]
  },
  {
   "cell_type": "code",
   "execution_count": 15,
   "id": "c89ff94e-cc7a-49d4-9073-86c6536658c4",
   "metadata": {},
   "outputs": [
    {
     "name": "stdout",
     "output_type": "stream",
     "text": [
      "Lojas Quase Dois - Tabela de Preços\n",
      "-----------------------------------\n",
      "1 - R$ 1.99\n",
      "2 - R$ 3.98\n",
      "3 - R$ 5.97\n",
      "4 - R$ 7.96\n",
      "5 - R$ 9.95\n",
      "6 - R$ 11.94\n",
      "7 - R$ 13.93\n",
      "8 - R$ 15.92\n",
      "9 - R$ 17.91\n",
      "10 - R$ 19.90\n",
      "11 - R$ 21.89\n",
      "12 - R$ 23.88\n",
      "13 - R$ 25.87\n",
      "14 - R$ 27.86\n",
      "15 - R$ 29.85\n",
      "16 - R$ 31.84\n",
      "17 - R$ 33.83\n",
      "18 - R$ 35.82\n",
      "19 - R$ 37.81\n",
      "20 - R$ 39.80\n",
      "21 - R$ 41.79\n",
      "22 - R$ 43.78\n",
      "23 - R$ 45.77\n",
      "24 - R$ 47.76\n",
      "25 - R$ 49.75\n",
      "26 - R$ 51.74\n",
      "27 - R$ 53.73\n",
      "28 - R$ 55.72\n",
      "29 - R$ 57.71\n",
      "30 - R$ 59.70\n",
      "31 - R$ 61.69\n",
      "32 - R$ 63.68\n",
      "33 - R$ 65.67\n",
      "34 - R$ 67.66\n",
      "35 - R$ 69.65\n",
      "36 - R$ 71.64\n",
      "37 - R$ 73.63\n",
      "38 - R$ 75.62\n",
      "39 - R$ 77.61\n",
      "40 - R$ 79.60\n",
      "41 - R$ 81.59\n",
      "42 - R$ 83.58\n",
      "43 - R$ 85.57\n",
      "44 - R$ 87.56\n",
      "45 - R$ 89.55\n",
      "46 - R$ 91.54\n",
      "47 - R$ 93.53\n",
      "48 - R$ 95.52\n",
      "49 - R$ 97.51\n",
      "50 - R$ 99.50\n"
     ]
    }
   ],
   "source": [
    "print(\"Lojas Quase Dois - Tabela de Preços\")\n",
    "print(\"-\" * 35)\n",
    "\n",
    "# Loop para gerar a tabela de preços\n",
    "for quantidade in range(1, 51):\n",
    "    preco = quantidade * 1.99\n",
    "    print(f\"{quantidade} - R$ {preco:.2f}\")"
   ]
  },
  {
   "cell_type": "code",
   "execution_count": null,
   "id": "6356d5b6-3cf1-4863-8926-1667efd40416",
   "metadata": {},
   "outputs": [],
   "source": [
    "#O Departamento Estadual de Meteorologia lhe contratou para desenvolver um programa que leia as um conjunto indeterminado de\n",
    "#temperaturas, e informe ao final a menor e a maior temperaturas informadas, bem como a média das temperaturas."
   ]
  },
  {
   "cell_type": "code",
   "execution_count": 16,
   "id": "ddc695ea-8332-4d11-b89f-60be2fde0ece",
   "metadata": {},
   "outputs": [
    {
     "name": "stdin",
     "output_type": "stream",
     "text": [
      "Digite a quantidade de temperaturas a serem calculadas:  4\n",
      "Digite uma temperatura 1:  45\n",
      "Digite uma temperatura 2:  23\n",
      "Digite uma temperatura 3:  18\n",
      "Digite uma temperatura 4:  33\n"
     ]
    },
    {
     "name": "stdout",
     "output_type": "stream",
     "text": [
      "A média das temperaturas é: 29.75\n",
      "A maior temperatura é a 45.0, enquanto a menor temperatura é a 18.0.\n"
     ]
    }
   ],
   "source": [
    "temperaturas = []\n",
    "qtdd = int(input(\"Digite a quantidade de temperaturas a serem calculadas: \"))\n",
    "for i in range(qtdd):\n",
    "    temperatura = float(input(f\"Digite uma temperatura {i + 1}: \"))\n",
    "    temperaturas.append(temperatura)\n",
    "media = sum(temperaturas) / qtdd\n",
    "tempmax = max(temperaturas)\n",
    "tempmin = min(temperaturas)\n",
    "print(f\"A média das temperaturas é: {media:.2f}\")\n",
    "print(f\"A maior temperatura é a {tempmax}, enquanto a menor temperatura é a {tempmin}.\")"
   ]
  },
  {
   "cell_type": "code",
   "execution_count": null,
   "id": "6fecf564-e813-4851-832b-3a3b1f8881e5",
   "metadata": {},
   "outputs": [],
   "source": []
  }
 ],
 "metadata": {
  "kernelspec": {
   "display_name": "Python 3 (ipykernel)",
   "language": "python",
   "name": "python3"
  },
  "language_info": {
   "codemirror_mode": {
    "name": "ipython",
    "version": 3
   },
   "file_extension": ".py",
   "mimetype": "text/x-python",
   "name": "python",
   "nbconvert_exporter": "python",
   "pygments_lexer": "ipython3",
   "version": "3.12.7"
  }
 },
 "nbformat": 4,
 "nbformat_minor": 5
}
