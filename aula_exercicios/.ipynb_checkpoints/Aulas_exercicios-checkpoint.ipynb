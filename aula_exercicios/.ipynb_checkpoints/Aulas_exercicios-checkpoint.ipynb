{
 "cells": [
  {
   "cell_type": "code",
   "execution_count": null,
   "id": "e9d7aaf4-141b-456c-a9a9-c6e0264c1816",
   "metadata": {},
   "outputs": [],
   "source": [
    "#Exercício 1: Faça um algoritmo para ler um número e mostrar se ele é par ou impar, positivo ou negativo."
   ]
  },
  {
   "cell_type": "code",
   "execution_count": 8,
   "id": "5a7f8f68-bf09-4546-a45e-4b577f0e91db",
   "metadata": {},
   "outputs": [
    {
     "name": "stdin",
     "output_type": "stream",
     "text": [
      "Digite um número:  -8\n"
     ]
    },
    {
     "name": "stdout",
     "output_type": "stream",
     "text": [
      "O número -8 é negativo e par.\n"
     ]
    }
   ],
   "source": [
    "numero = int(input(\"Digite um número: \"))\n",
    "if numero > 0:\n",
    "    if numero % 2== 0:\n",
    "        print(\"O número\", numero, \"é positivo e par.\")\n",
    "    else:\n",
    "        print(\"O número\", numero, \"é positivo e ímpar.\")\n",
    "elif numero < 0:\n",
    "    if numero % 2 == 0:\n",
    "        print(\"O número\", numero, \"é negativo e par.\")\n",
    "    else:\n",
    "        print(\"O número\", numero, \"é negativo e ímpar.\")\n",
    "    "
   ]
  },
  {
   "cell_type": "code",
   "execution_count": null,
   "id": "2b08abc4-030c-4c79-b478-af328cbbc128",
   "metadata": {},
   "outputs": [],
   "source": [
    "# Exercício 2: Faça um Programa que peça dois números e imprima o maior deles."
   ]
  },
  {
   "cell_type": "code",
   "execution_count": 14,
   "id": "c52def4a-b2d6-4422-bb3e-a53de29eff50",
   "metadata": {},
   "outputs": [
    {
     "name": "stdin",
     "output_type": "stream",
     "text": [
      "Digite o primeiro número:  99\n",
      "Digite o segunto número:  56\n"
     ]
    },
    {
     "name": "stdout",
     "output_type": "stream",
     "text": [
      "O número 99 é o maior número.\n"
     ]
    }
   ],
   "source": [
    "n1 = int(input(\"Digite o primeiro número: \"))\n",
    "n2 = int(input(\"Digite o segunto número: \"))\n",
    "if n1 == n2:\n",
    "    print(\"Os número são iguais.\")\n",
    "elif n1 > n2:\n",
    "    print(\"O número\", n1, \"é o maior número.\")\n",
    "else:\n",
    "    print(\"O número\", n2, \"é o maior número.\")"
   ]
  },
  {
   "cell_type": "code",
   "execution_count": null,
   "id": "9b5fce3a-2751-4c6b-9ec7-b994ef92a9c5",
   "metadata": {},
   "outputs": [],
   "source": [
    "#Exercício 3: Faça um Programa que peça um valor e mostre na tela se o valor é positivo ou negativo."
   ]
  },
  {
   "cell_type": "code",
   "execution_count": 22,
   "id": "650f6c8a-593f-4ee2-adb1-768c301be628",
   "metadata": {},
   "outputs": [
    {
     "name": "stdin",
     "output_type": "stream",
     "text": [
      "Digite um número: -8\n"
     ]
    },
    {
     "name": "stdout",
     "output_type": "stream",
     "text": [
      "O número -8 é negativo.\n"
     ]
    }
   ],
   "source": [
    "n = int(input(\"Digite um número:\"))\n",
    "if n == 0:\n",
    "    print(\"O número\", n, \"não e negativo nem positivo.\")\n",
    "elif n > 0:\n",
    "    print(\"O número\", n, \"é positivo.\")\n",
    "else:\n",
    "    print(\"O número\", n, \"é negativo.\")\n"
   ]
  },
  {
   "cell_type": "code",
   "execution_count": null,
   "id": "adedb12e-86a3-40be-9eb0-645d2a8e0611",
   "metadata": {},
   "outputs": [],
   "source": [
    "#Exercício 4: Faça um Programa que verifique se uma letra digitada é vogal ou consoante."
   ]
  },
  {
   "cell_type": "code",
   "execution_count": 36,
   "id": "1b5e65e5-18dc-4dc0-9f57-8b55bf2a9eb2",
   "metadata": {},
   "outputs": [
    {
     "name": "stdin",
     "output_type": "stream",
     "text": [
      "Digite uma letra:  h\n"
     ]
    },
    {
     "name": "stdout",
     "output_type": "stream",
     "text": [
      "A letra digitada é uma consoante.\n"
     ]
    }
   ],
   "source": [
    "while True:\n",
    "    letra = input(\"Digite uma letra: \").lower()\n",
    "        \n",
    "    if len(letra) == 1 and letra.isalpha():\n",
    "        if letra in \"aeiou\":\n",
    "            print(\"A letra digitada é uma vogal.\")\n",
    "        else:\n",
    "            print(\"A letra digitada é uma consoante.\")\n",
    "        break\n",
    "    else:\n",
    "        print(\"Entrada inválida! Por favor, digite apenas uma letra.\")"
   ]
  },
  {
   "cell_type": "code",
   "execution_count": null,
   "id": "f7a31ab5-7e8c-4732-ac66-dffb42fb603d",
   "metadata": {},
   "outputs": [],
   "source": [
    "#Exercício 5: Faça um programa para a leitura de duas notas parciais de um aluno. O programa deve calcular a média alcançada por\n",
    "#aluno e apresentar:\n",
    "#a. A mensagem \"Aprovado\", se a média alcançada for maior ou igual a sete;\n",
    "#b. A mensagem \"Reprovado\", se a média for menor do que sete;\n",
    "#c. A mensagem \"Aprovado com Distinção\", se a média for igual a dez."
   ]
  },
  {
   "cell_type": "code",
   "execution_count": 55,
   "id": "8486ecf4-e8bc-4e79-9d22-dafd39866d9d",
   "metadata": {},
   "outputs": [
    {
     "name": "stdin",
     "output_type": "stream",
     "text": [
      "Digite a primeira nota:  4\n",
      "Digite a segunda nota:  5\n"
     ]
    },
    {
     "name": "stdout",
     "output_type": "stream",
     "text": [
      "Sua nota foi: 4.5 . Reprovado.\n"
     ]
    }
   ],
   "source": [
    "nota1 = float(input(\"Digite a primeira nota: \"))\n",
    "nota2 = float(input(\"Digite a segunda nota: \"))\n",
    "media = (nota1 + nota2) / 2\n",
    "if media >= 7 and media < 10:\n",
    "     print(\"Sua nota foi:\", media,\". Aprovado!\")\n",
    "elif media < 7:\n",
    "    print(\"Sua nota foi:\", media,\". Reprovado.\")\n",
    "else:\n",
    "    print(\"Sua nota foi:\", media,\". Distinção!\")"
   ]
  },
  {
   "cell_type": "code",
   "execution_count": null,
   "id": "6601bc4a-01ae-4adc-9bfb-f7488dbad8bd",
   "metadata": {},
   "outputs": [],
   "source": [
    "#Exercício 6: Faça um programa que pergunte o preço de três produtos e informe qual produto você deve comprar, sabendo que a\n",
    "#decisão é sempre pelo mais barato."
   ]
  },
  {
   "cell_type": "code",
   "execution_count": 57,
   "id": "7078995a-ddfb-445b-a80f-29ba2c817ffd",
   "metadata": {},
   "outputs": [
    {
     "name": "stdin",
     "output_type": "stream",
     "text": [
      "Qual é o preço do primeiro produto? 1.850\n",
      "Qual é o preço do segundo produto? 3680\n",
      "Qual é o preço do terceiro produto? 1747\n"
     ]
    },
    {
     "name": "stdout",
     "output_type": "stream",
     "text": [
      "O primeiro produto é o mais barato, você deveria comprar esse.\n"
     ]
    }
   ],
   "source": [
    "preco1 = float(input(\"Qual é o preço do primeiro produto?\"))\n",
    "preco2 = float(input(\"Qual é o preço do segundo produto?\"))\n",
    "preco3 = float(input(\"Qual é o preço do terceiro produto?\"))\n",
    "if preco1 < preco2 and preco1 < preco3:\n",
    "    print(\"O primeiro produto é o mais barato, você deveria comprar esse.\")\n",
    "elif preco2 < preco1 and preco2 < preco3:\n",
    "    print(\"O segundo produto é o mais barato, você deveria comprar esse.\")\n",
    "else:\n",
    "    print(\"O terceiro produto é o mais barato, você deveria comprar esse.\")"
   ]
  },
  {
   "cell_type": "code",
   "execution_count": null,
   "id": "9f91a885-23f7-46a3-bc56-70e14ccd0a74",
   "metadata": {},
   "outputs": [],
   "source": [
    "#Exercício 7: Faça um Programa que leia três números e mostre-os em ordem decrescente."
   ]
  },
  {
   "cell_type": "code",
   "execution_count": 60,
   "id": "216718a1-42a5-4972-b147-bde7922dd596",
   "metadata": {},
   "outputs": [
    {
     "name": "stdin",
     "output_type": "stream",
     "text": [
      "Digite o primeiro número:  45\n",
      "Digite o segundo número:  98\n",
      "Digite o terceiro número:  65\n"
     ]
    },
    {
     "name": "stdout",
     "output_type": "stream",
     "text": [
      "Números em ordem decrescente: [98, 65, 45]\n"
     ]
    }
   ],
   "source": [
    "num1 = int(input(\"Digite o primeiro número: \"))\n",
    "num2 = int(input(\"Digite o segundo número: \"))\n",
    "num3 = int(input(\"Digite o terceiro número: \"))\n",
    "\n",
    "numeros = [num1, num2, num3]\n",
    "numeros.sort(reverse=True)\n",
    "\n",
    "print(\"Números em ordem decrescente:\", numeros)"
   ]
  },
  {
   "cell_type": "code",
   "execution_count": null,
   "id": "f2cc8ace-e7bd-42e1-8314-b0abc4933e8a",
   "metadata": {},
   "outputs": [],
   "source": [
    "#Exercício 8: Faça um Programa que pergunte em que turno você estuda. Peça para digitar M-matutino ou V-Vespertino ou N- Noturno.\n",
    "#Imprima a mensagem \"Bom Dia!\", \"Boa Tarde!\" ou \"Boa Noite!\" ou \"Valor Inválido!\", conforme o caso."
   ]
  },
  {
   "cell_type": "code",
   "execution_count": 62,
   "id": "1b737c69-1c26-4632-9a38-97655af47b21",
   "metadata": {},
   "outputs": [
    {
     "name": "stdin",
     "output_type": "stream",
     "text": [
      "Em que turno você estuda? (M-matutino, V-vespertino, N-noturno):  T\n"
     ]
    },
    {
     "name": "stdout",
     "output_type": "stream",
     "text": [
      "Valor Inválido! Tente novamente.\n"
     ]
    },
    {
     "name": "stdin",
     "output_type": "stream",
     "text": [
      "Em que turno você estuda? (M-matutino, V-vespertino, N-noturno):  v\n"
     ]
    },
    {
     "name": "stdout",
     "output_type": "stream",
     "text": [
      "Boa Tarde!\n"
     ]
    }
   ],
   "source": [
    "while True:\n",
    "    turno = input(\"Em que turno você estuda? (M-matutino, V-vespertino, N-noturno): \").strip().upper()\n",
    "    if turno == 'M':\n",
    "        print(\"Bom Dia!\")\n",
    "        break\n",
    "    elif turno == 'V':\n",
    "        print(\"Boa Tarde!\")\n",
    "        break\n",
    "    elif turno == 'N':\n",
    "        print(\"Boa Noite!\")\n",
    "        break\n",
    "    else:\n",
    "        print(\"Valor Inválido! Tente novamente.\")"
   ]
  },
  {
   "cell_type": "code",
   "execution_count": null,
   "id": "f81c7395-6ba0-4f59-b4f7-4d209e3e5868",
   "metadata": {},
   "outputs": [],
   "source": [
    "#Exercício 9: As Organizações Tabajara resolveram dar um aumento de salário aos seus colaboradores e lhe contraram para\n",
    "#desenvolver o programa que calculará os reajustes.\n",
    "#a. Faça um programa que recebe o salário de um colaborador e o reajuste segundo o seguinte critério, baseado no\n",
    "#salário atual:\n",
    "#b. salários até R$ 280,00 (incluindo) : aumento de 20%\n",
    "#c. salários entre R$ 280,00 e R$ 700,00 : aumento de 15%\n",
    "#d. salários entre R$ 700,00 e R$ 1500,00 : aumento de 10%\n",
    "#e. salários de R$ 1500,00 em diante : aumento de 5% Após o aumento ser realizado, informe na tela:\n",
    "#f. o salário antes do reajuste;\n",
    "#g. o percentual de aumento aplicado;\n",
    "#h. o valor do aumento;\n",
    "#i. o novo salário, após o aumento."
   ]
  },
  {
   "cell_type": "code",
   "execution_count": 11,
   "id": "aab68c93-924e-4eb8-ad9f-ae0e16c3c7fb",
   "metadata": {},
   "outputs": [
    {
     "name": "stdin",
     "output_type": "stream",
     "text": [
      "Digite seu salário atual:  2500\n"
     ]
    },
    {
     "name": "stdout",
     "output_type": "stream",
     "text": [
      "Seu salário antigo era R$2500.0, mas teve um reajuste de 5%.\n",
      "Seu novo salário teve um aumento de R$125.0 e agora seu salário é R$2625.0.\n"
     ]
    }
   ],
   "source": [
    "salario = float(input(\"Digite seu salário atual: \"))\n",
    "\n",
    "if salario <= 280:\n",
    "    novosalario = salario + salario * 0.20\n",
    "    reajuste = salario * 0.20\n",
    "    print(f\"Seu salário antigo era R${salario}, mas teve um reajuste de 20%.\")\n",
    "    print(f\"Seu novo salário teve um aumento de R${reajuste} e agora seu salário é R${novosalario}.\")\n",
    "    \n",
    "elif salario > 280 and salario < 700:\n",
    "    novosalario = salario + salario * 0.15\n",
    "    reajuste = salario * 0.15\n",
    "    print(f\"Seu salário antigo era R${salario}, mas teve um reajuste de 15%.\")\n",
    "    print(f\"Seu novo salário teve um aumento de R${reajuste} e agora seu salário é R${novosalario}.\")\n",
    "    \n",
    "elif salario >= 700 and salario < 1500:\n",
    "    novosalario = salario + salario * 0.10\n",
    "    reajuste = salario * 0.10\n",
    "    print(f\"Seu salário antigo era R${salario}, mas teve um reajuste de 10%.\")\n",
    "    print(f\"Seu novo salário teve um aumento de R${reajuste} e agora seu salário é R${novosalario}.\")\n",
    "    \n",
    "else:\n",
    "    novosalario = salario + salario * 0.05\n",
    "    reajuste = salario * 0.05\n",
    "    print(f\"Seu salário antigo era R${salario}, mas teve um reajuste de 5%.\")\n",
    "    print(f\"Seu novo salário teve um aumento de R${reajuste} e agora seu salário é R${novosalario}.\")"
   ]
  },
  {
   "cell_type": "code",
   "execution_count": null,
   "id": "8420e041-6fba-45ae-b2fd-de7e6f7a7307",
   "metadata": {},
   "outputs": [],
   "source": [
    "#Exercício 10: Faça um programa para o cálculo de uma folha de pagamento, sabendo que os descontos são do Imposto de Renda, que\n",
    "#depende do salário bruto (conforme tabela abaixo) e 3% para o Sindicato e que o FGTS corresponde a 11% do Salário\n",
    "#Bruto, mas não é descontado (é a empresa que deposita). O Salário Líquido corresponde ao Salário Bruto menos os\n",
    "#descontos. O programa deverá pedir ao usuário o valor da sua hora e a quantidade de horas trabalhadas no mês.\n",
    "#a. Desconto do IR:\n",
    "#b. Salário Bruto até 900 (inclusive) - isento\n",
    "#c. Salário Bruto até 1500 (inclusive) - desconto de 5%\n",
    "#d. Salário Bruto até 2500 (inclusive) - desconto de 10%\n",
    "#e. Salário Bruto acima de 2500 - desconto de 20% Imprima na tela as informações, dispostas conforme o exemplo\n",
    "#abaixo. No exemplo o valor da hora é 5 e a quantidade de hora é 220.\n",
    "#f. Salário Bruto: (5 * 220) : R$ 1100,00\n",
    "#g. (-) IR (5%) : R$ 55,00\n",
    "#h. (-) INSS ( 10%) : R$ 110,00\n",
    "#i. FGTS (11%) : R$ 121,00\n",
    "#j. Total de descontos : R$ 165,00\n",
    "#Salário Liquido : R$ 935,00"
   ]
  },
  {
   "cell_type": "code",
   "execution_count": 30,
   "id": "2d2c318f-48cc-406a-af13-838d38cc5ccf",
   "metadata": {},
   "outputs": [
    {
     "name": "stdin",
     "output_type": "stream",
     "text": [
      "Digite o valor hora do funcionário:  16\n",
      "Digite a quantidade de horas trabalhadas:  200\n"
     ]
    },
    {
     "name": "stdout",
     "output_type": "stream",
     "text": [
      "Esse mês você trabalhou 200 horas, R$16.0 cada hora.\n",
      "Seu salário bruto foi de R$3200.00.\n",
      "Seu FGTS ficou em R$352.00, seu IR ficou em R$640.00 e o desconto do Sindicato foi de R$96.00.\n",
      "Total de descontos: R$736.00\n",
      "Seu salário líquido foi de R$2464.00.\n"
     ]
    }
   ],
   "source": [
    "hora = float(input(\"Digite o valor hora do funcionário: \"))\n",
    "tempo = int(input(\"Digite a quantidade de horas trabalhadas: \"))\n",
    "bruto = hora * tempo\n",
    "IR1 = bruto * 0.05\n",
    "IR2 = bruto * 0.1\n",
    "IR3 = bruto * 0.2\n",
    "SIND = bruto * 0.03\n",
    "FGTS = bruto * 0.11\n",
    "if bruto <= 900:\n",
    "    descontos = SIND\n",
    "    liquido = bruto - descontos\n",
    "    print(f\"Esse mês você trabalhou {tempo} horas, R${hora} cada hora.\")\n",
    "    print(f\"Seu salário bruto foi de R${bruto:.2f}.\")\n",
    "    print(f\"Seu FGTS ficou em R${FGTS:.2f}, e o desconto do Sindicato foi de R${SIND:.2f}.\")\n",
    "    print(f\"Total de descontos: R${descontos:.2f}\")\n",
    "    print(f\"Seu salário líquido foi de R${liquido:.2f}.\")\n",
    "\n",
    "elif bruto > 900 and bruto <= 1500:\n",
    "    descontos = IR1 + SIND\n",
    "    liquido = bruto - descontos\n",
    "    print(f\"Esse mês você trabalhou {tempo} horas, R${hora} cada hora.\")\n",
    "    print(f\"Seu salário bruto foi de R${bruto:.2f}.\")\n",
    "    print(f\"Seu FGTS ficou em R${FGTS:.2f}, seu IR ficou em R${IR1:.2f} e o desconto do Sindicato foi de R${SIND:.2f}.\")\n",
    "    print(f\"Total de descontos: R${descontos:.2f}\")\n",
    "    print(f\"Seu salário líquido foi de R${liquido:.2f}.\")\n",
    "\n",
    "elif bruto > 1500 and bruto <= 2500:\n",
    "    descontos = IR2 + SIND\n",
    "    liquido = bruto - descontos\n",
    "    print(f\"Esse mês você trabalhou {tempo} horas, R${hora} cada hora.\")\n",
    "    print(f\"Seu salário bruto foi de R${bruto:.2f}.\")\n",
    "    print(f\"Seu FGTS ficou em R${FGTS:.2f}, seu IR ficou em R${IR2:.2f} e o desconto do Sindicato foi de R${SIND:.2f}.\")\n",
    "    print(f\"Total de descontos: R${descontos:.2f}\")\n",
    "    print(f\"Seu salário líquido foi de R${liquido:.2f}.\")\n",
    "\n",
    "else:\n",
    "    descontos = IR3 + SIND\n",
    "    liquido = bruto - descontos\n",
    "    print(f\"Esse mês você trabalhou {tempo} horas, R${hora} cada hora.\")\n",
    "    print(f\"Seu salário bruto foi de R${bruto:.2f}.\")\n",
    "    print(f\"Seu FGTS ficou em R${FGTS:.2f}, seu IR ficou em R${IR3:.2f} e o desconto do Sindicato foi de R${SIND:.2f}.\")\n",
    "    print(f\"Total de descontos: R${descontos:.2f}\")\n",
    "    print(f\"Seu salário líquido foi de R${liquido:.2f}.\")"
   ]
  },
  {
   "cell_type": "code",
   "execution_count": null,
   "id": "f078db08-0b56-4b32-840b-e12e793e7620",
   "metadata": {},
   "outputs": [],
   "source": [
    "#Exercício 11: Faça um programa que lê as duas notas parciais obtidas por um aluno numa disciplina ao longo de um semestre, e calcule\n",
    "#a sua média. A atribuição de conceitos obedece à tabela abaixo:\n",
    "#a. Média de Aproveitamento Conceito\n",
    "#b. Entre 9.0 e 10.0 A\n",
    "#c. Entre 7.5 e 9.0 B\n",
    "#d. Entre 6.0 e 7.5 C\n",
    "#e. Entre 4.0 e 6.0 D\n",
    "#f. Entre 4.0 e zero E"
   ]
  },
  {
   "cell_type": "code",
   "execution_count": null,
   "id": "f57f684a-bc41-421f-b430-64d752a667bd",
   "metadata": {},
   "outputs": [],
   "source": []
  },
  {
   "cell_type": "code",
   "execution_count": null,
   "id": "ce01f20e-241b-43c8-8e4b-27969729e3f1",
   "metadata": {},
   "outputs": [],
   "source": [
    "#Exercício 12: Faça um programa que peça uma nota, entre zero e dez. Mostre uma mensagem caso o valor seja inválido e continue\n",
    "#pedindo até que o usuário informe um valor válido."
   ]
  },
  {
   "cell_type": "code",
   "execution_count": null,
   "id": "76edd29b-c6fe-44fe-9f3f-3bba1013cb1a",
   "metadata": {},
   "outputs": [],
   "source": []
  },
  {
   "cell_type": "code",
   "execution_count": null,
   "id": "a4ddfa3c-824f-4a3b-8de8-0c9101c83a2d",
   "metadata": {},
   "outputs": [],
   "source": [
    "#Exercício 13: Faça um programa que leia um nome de usuário e a sua senha e não aceite a senha igual ao nome do usuário, mostrando\n",
    "#uma mensagem de erro e voltando a pedir as informações."
   ]
  },
  {
   "cell_type": "code",
   "execution_count": null,
   "id": "c1408de1-173b-408f-bd94-d312900df851",
   "metadata": {},
   "outputs": [],
   "source": []
  },
  {
   "cell_type": "code",
   "execution_count": null,
   "id": "43f7f80e-cfbd-4c7e-a8ea-b007c0f587c8",
   "metadata": {},
   "outputs": [],
   "source": [
    "#Exercício 14: Faça um programa que leia e valide as seguintes informações:\n",
    "#a. Nome: maior que 3 caracteres;\n",
    "#b. Idade: entre 0 e 150;\n",
    "#c. Salário: maior que zero;\n",
    "#d. Sexo: 'f' ou 'm';\n",
    "#e. Estado Civil: 's', 'c', 'v', 'd';"
   ]
  },
  {
   "cell_type": "code",
   "execution_count": null,
   "id": "af06c12a-d530-463b-bab4-6bf7db7ef1f4",
   "metadata": {},
   "outputs": [],
   "source": []
  },
  {
   "cell_type": "code",
   "execution_count": null,
   "id": "b7388e02-edef-42ae-9f1a-e462f4e00fcd",
   "metadata": {},
   "outputs": [],
   "source": [
    "#Exercício 15: Supondo que a população de um país A seja da ordem de 80000 habitantes com uma taxa anual de crescimento de 3% e\n",
    "#que a população de B seja 200000 habitantes com uma taxa de crescimento de 1.5%. Faça um programa que calcule e\n",
    "#escreva o número de anos necessários para que a população do país A ultrapasse ou iguale a população do país B,\n",
    "#mantidas as taxas de crescimento."
   ]
  },
  {
   "cell_type": "code",
   "execution_count": null,
   "id": "58f95d23-12d6-42ed-b571-f1d63fbe6dcc",
   "metadata": {},
   "outputs": [],
   "source": []
  },
  {
   "cell_type": "code",
   "execution_count": null,
   "id": "0b7e3511-6d81-4d02-aa09-57bfb5e7b417",
   "metadata": {},
   "outputs": [],
   "source": [
    "#Exercício 16: Faça um programa que leia 5 números e informe a soma e a média dos números."
   ]
  },
  {
   "cell_type": "code",
   "execution_count": null,
   "id": "26cdd367-5c94-4aa4-99d9-da018de542da",
   "metadata": {},
   "outputs": [],
   "source": []
  },
  {
   "cell_type": "code",
   "execution_count": null,
   "id": "2a9f65ee-7bb7-4b21-95db-a2780c250c8c",
   "metadata": {},
   "outputs": [],
   "source": [
    "#Exercício 17: Desenvolva um gerador de tabuada, capaz de gerar a tabuada de qualquer número inteiro entre 1 a 10. O usuário deve\n",
    "#informar de qual numero ele deseja ver a tabuada. A saída deve ser conforme o exemplo abaixo:\n",
    "#a. Tabuada de 5:\n",
    "#b. 5 X 1 = 5\n",
    "#c. 5 X 2 = 10\n",
    "#d. ...\n",
    "#e. 5 X 10 = 50"
   ]
  },
  {
   "cell_type": "code",
   "execution_count": null,
   "id": "ec54d3c1-cb9b-475c-a8b8-fe6d216c7517",
   "metadata": {},
   "outputs": [],
   "source": []
  },
  {
   "cell_type": "code",
   "execution_count": null,
   "id": "69f9d299-b87b-46b0-a3f2-549fd4fd51be",
   "metadata": {},
   "outputs": [],
   "source": [
    "#Exercício 18: A série de Fibonacci é formada pela seqüência 1,1,2,3,5,8,13,21,34,55,... Faça um programa capaz de gerar a série até o\n",
    "#n−ésimo termo."
   ]
  },
  {
   "cell_type": "code",
   "execution_count": null,
   "id": "4c5647c9-fcbe-490a-ba94-63ed7d8f90c7",
   "metadata": {},
   "outputs": [],
   "source": []
  },
  {
   "cell_type": "code",
   "execution_count": null,
   "id": "27eafc9c-ecc5-4b89-96e4-27baf30322ed",
   "metadata": {},
   "outputs": [],
   "source": [
    "#Exercício 19: Faça um programa que calcule o mostre a média aritmética de N notas."
   ]
  },
  {
   "cell_type": "code",
   "execution_count": null,
   "id": "e17c6a82-e738-42ef-b3bd-0c04a93985b1",
   "metadata": {},
   "outputs": [],
   "source": []
  },
  {
   "cell_type": "code",
   "execution_count": null,
   "id": "6b068810-81ba-49c4-b33d-14fb71a7364e",
   "metadata": {},
   "outputs": [],
   "source": [
    "#Exercício 20: O Sr. Manoel Joaquim possui uma grande loja de artigos de R$ 1,99, com cerca de 10 caixas. Para agilizar o cálculo de\n",
    "#quanto cada cliente deve pagar ele desenvolveu um tabela que contém o número de itens que o cliente comprou e ao lado\n",
    "#o valor da conta. Desta forma a atendente do caixa precisa apenas contar quantos itens o cliente está levando e olhar na\n",
    "#tabela de preços. Você foi contratado para desenvolver o programa que monta esta tabela de preços, que conterá os preços\n",
    "#de 1 até 50 produtos, conforme o exemplo abaixo:\n",
    "#a. Lojas Quase Dois - Tabela de preços\n",
    "#b. 1 - R$ 1.99\n",
    "#c. 2 - R$ 3.98\n",
    "#d. ...\n",
    "#e. 50 - R$ 99.50\n",
    "#\n",
    "#O Departamento Estadual de Meteorologia lhe contratou para desenvolver um programa que leia as um conjunto indeterminado de\n",
    "#temperaturas, e informe ao final a menor e a maior temperaturas informadas, bem como a média das temperaturas."
   ]
  }
 ],
 "metadata": {
  "kernelspec": {
   "display_name": "Python 3 (ipykernel)",
   "language": "python",
   "name": "python3"
  },
  "language_info": {
   "codemirror_mode": {
    "name": "ipython",
    "version": 3
   },
   "file_extension": ".py",
   "mimetype": "text/x-python",
   "name": "python",
   "nbconvert_exporter": "python",
   "pygments_lexer": "ipython3",
   "version": "3.12.7"
  }
 },
 "nbformat": 4,
 "nbformat_minor": 5
}
