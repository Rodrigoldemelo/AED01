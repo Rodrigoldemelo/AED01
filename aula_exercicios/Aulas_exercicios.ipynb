{
 "cells": [
  {
   "cell_type": "code",
   "execution_count": null,
   "id": "e9d7aaf4-141b-456c-a9a9-c6e0264c1816",
   "metadata": {},
   "outputs": [],
   "source": [
    "#Exercício 1: Faça um algoritmo para ler um número e mostrar se ele é par ou impar, positivo ou negativo."
   ]
  },
  {
   "cell_type": "code",
   "execution_count": 8,
   "id": "5a7f8f68-bf09-4546-a45e-4b577f0e91db",
   "metadata": {},
   "outputs": [
    {
     "name": "stdin",
     "output_type": "stream",
     "text": [
      "Digite um número:  -8\n"
     ]
    },
    {
     "name": "stdout",
     "output_type": "stream",
     "text": [
      "O número -8 é negativo e par.\n"
     ]
    }
   ],
   "source": [
    "numero = int(input(\"Digite um número: \"))\n",
    "if numero > 0:\n",
    "    if numero % 2== 0:\n",
    "        print(\"O número\", numero, \"é positivo e par.\")\n",
    "    else:\n",
    "        print(\"O número\", numero, \"é positivo e ímpar.\")\n",
    "elif numero < 0:\n",
    "    if numero % 2 == 0:\n",
    "        print(\"O número\", numero, \"é negativo e par.\")\n",
    "    else:\n",
    "        print(\"O número\", numero, \"é negativo e ímpar.\")\n",
    "    "
   ]
  },
  {
   "cell_type": "code",
   "execution_count": null,
   "id": "2b08abc4-030c-4c79-b478-af328cbbc128",
   "metadata": {},
   "outputs": [],
   "source": [
    "# Exercício 2: Faça um Programa que peça dois números e imprima o maior deles."
   ]
  },
  {
   "cell_type": "code",
   "execution_count": 14,
   "id": "c52def4a-b2d6-4422-bb3e-a53de29eff50",
   "metadata": {},
   "outputs": [
    {
     "name": "stdin",
     "output_type": "stream",
     "text": [
      "Digite o primeiro número:  99\n",
      "Digite o segunto número:  56\n"
     ]
    },
    {
     "name": "stdout",
     "output_type": "stream",
     "text": [
      "O número 99 é o maior número.\n"
     ]
    }
   ],
   "source": [
    "n1 = int(input(\"Digite o primeiro número: \"))\n",
    "n2 = int(input(\"Digite o segunto número: \"))\n",
    "if n1 == n2:\n",
    "    print(\"Os número são iguais.\")\n",
    "elif n1 > n2:\n",
    "    print(\"O número\", n1, \"é o maior número.\")\n",
    "else:\n",
    "    print(\"O número\", n2, \"é o maior número.\")"
   ]
  },
  {
   "cell_type": "code",
   "execution_count": null,
   "id": "9b5fce3a-2751-4c6b-9ec7-b994ef92a9c5",
   "metadata": {},
   "outputs": [],
   "source": [
    "#Exercício 3: Faça um Programa que peça um valor e mostre na tela se o valor é positivo ou negativo."
   ]
  },
  {
   "cell_type": "code",
   "execution_count": 22,
   "id": "650f6c8a-593f-4ee2-adb1-768c301be628",
   "metadata": {},
   "outputs": [
    {
     "name": "stdin",
     "output_type": "stream",
     "text": [
      "Digite um número: -8\n"
     ]
    },
    {
     "name": "stdout",
     "output_type": "stream",
     "text": [
      "O número -8 é negativo.\n"
     ]
    }
   ],
   "source": [
    "n = int(input(\"Digite um número:\"))\n",
    "if n == 0:\n",
    "    print(\"O número\", n, \"não e negativo nem positivo.\")\n",
    "elif n > 0:\n",
    "    print(\"O número\", n, \"é positivo.\")\n",
    "else:\n",
    "    print(\"O número\", n, \"é negativo.\")\n"
   ]
  },
  {
   "cell_type": "code",
   "execution_count": null,
   "id": "adedb12e-86a3-40be-9eb0-645d2a8e0611",
   "metadata": {},
   "outputs": [],
   "source": [
    "#Exercício 4: Faça um Programa que verifique se uma letra digitada é vogal ou consoante."
   ]
  },
  {
   "cell_type": "code",
   "execution_count": 36,
   "id": "1b5e65e5-18dc-4dc0-9f57-8b55bf2a9eb2",
   "metadata": {},
   "outputs": [
    {
     "name": "stdin",
     "output_type": "stream",
     "text": [
      "Digite uma letra:  h\n"
     ]
    },
    {
     "name": "stdout",
     "output_type": "stream",
     "text": [
      "A letra digitada é uma consoante.\n"
     ]
    }
   ],
   "source": [
    "while True:\n",
    "    letra = input(\"Digite uma letra: \").lower()\n",
    "        \n",
    "    if len(letra) == 1 and letra.isalpha():\n",
    "        if letra in \"aeiou\":\n",
    "            print(\"A letra digitada é uma vogal.\")\n",
    "        else:\n",
    "            print(\"A letra digitada é uma consoante.\")\n",
    "        break\n",
    "    else:\n",
    "        print(\"Entrada inválida! Por favor, digite apenas uma letra.\")"
   ]
  },
  {
   "cell_type": "code",
   "execution_count": null,
   "id": "f7a31ab5-7e8c-4732-ac66-dffb42fb603d",
   "metadata": {},
   "outputs": [],
   "source": [
    "#Exercício 5: Faça um programa para a leitura de duas notas parciais de um aluno. O programa deve calcular a média alcançada por\n",
    "#aluno e apresentar:\n",
    "#a. A mensagem \"Aprovado\", se a média alcançada for maior ou igual a sete;\n",
    "#b. A mensagem \"Reprovado\", se a média for menor do que sete;\n",
    "#c. A mensagem \"Aprovado com Distinção\", se a média for igual a dez."
   ]
  },
  {
   "cell_type": "code",
   "execution_count": 55,
   "id": "8486ecf4-e8bc-4e79-9d22-dafd39866d9d",
   "metadata": {},
   "outputs": [
    {
     "name": "stdin",
     "output_type": "stream",
     "text": [
      "Digite a primeira nota:  4\n",
      "Digite a segunda nota:  5\n"
     ]
    },
    {
     "name": "stdout",
     "output_type": "stream",
     "text": [
      "Sua nota foi: 4.5 . Reprovado.\n"
     ]
    }
   ],
   "source": [
    "nota1 = float(input(\"Digite a primeira nota: \"))\n",
    "nota2 = float(input(\"Digite a segunda nota: \"))\n",
    "media = (nota1 + nota2) / 2\n",
    "if media >= 7 and media < 10:\n",
    "     print(\"Sua nota foi:\", media,\". Aprovado!\")\n",
    "elif media < 7:\n",
    "    print(\"Sua nota foi:\", media,\". Reprovado.\")\n",
    "else:\n",
    "    print(\"Sua nota foi:\", media,\". Distinção!\")"
   ]
  },
  {
   "cell_type": "code",
   "execution_count": null,
   "id": "6601bc4a-01ae-4adc-9bfb-f7488dbad8bd",
   "metadata": {},
   "outputs": [],
   "source": [
    "#Exercício 6: Faça um programa que pergunte o preço de três produtos e informe qual produto você deve comprar, sabendo que a\n",
    "#decisão é sempre pelo mais barato."
   ]
  },
  {
   "cell_type": "code",
   "execution_count": 57,
   "id": "7078995a-ddfb-445b-a80f-29ba2c817ffd",
   "metadata": {},
   "outputs": [
    {
     "name": "stdin",
     "output_type": "stream",
     "text": [
      "Qual é o preço do primeiro produto? 1.850\n",
      "Qual é o preço do segundo produto? 3680\n",
      "Qual é o preço do terceiro produto? 1747\n"
     ]
    },
    {
     "name": "stdout",
     "output_type": "stream",
     "text": [
      "O primeiro produto é o mais barato, você deveria comprar esse.\n"
     ]
    }
   ],
   "source": [
    "preco1 = float(input(\"Qual é o preço do primeiro produto?\"))\n",
    "preco2 = float(input(\"Qual é o preço do segundo produto?\"))\n",
    "preco3 = float(input(\"Qual é o preço do terceiro produto?\"))\n",
    "if preco1 < preco2 and preco1 < preco3:\n",
    "    print(\"O primeiro produto é o mais barato, você deveria comprar esse.\")\n",
    "elif preco2 < preco1 and preco2 < preco3:\n",
    "    print(\"O segundo produto é o mais barato, você deveria comprar esse.\")\n",
    "else:\n",
    "    print(\"O terceiro produto é o mais barato, você deveria comprar esse.\")"
   ]
  },
  {
   "cell_type": "code",
   "execution_count": null,
   "id": "9f91a885-23f7-46a3-bc56-70e14ccd0a74",
   "metadata": {},
   "outputs": [],
   "source": [
    "#Exercício 7: Faça um Programa que leia três números e mostre-os em ordem decrescente."
   ]
  },
  {
   "cell_type": "code",
   "execution_count": 60,
   "id": "216718a1-42a5-4972-b147-bde7922dd596",
   "metadata": {},
   "outputs": [
    {
     "name": "stdin",
     "output_type": "stream",
     "text": [
      "Digite o primeiro número:  45\n",
      "Digite o segundo número:  98\n",
      "Digite o terceiro número:  65\n"
     ]
    },
    {
     "name": "stdout",
     "output_type": "stream",
     "text": [
      "Números em ordem decrescente: [98, 65, 45]\n"
     ]
    }
   ],
   "source": [
    "num1 = int(input(\"Digite o primeiro número: \"))\n",
    "num2 = int(input(\"Digite o segundo número: \"))\n",
    "num3 = int(input(\"Digite o terceiro número: \"))\n",
    "\n",
    "numeros = [num1, num2, num3]\n",
    "numeros.sort(reverse=True)\n",
    "\n",
    "print(\"Números em ordem decrescente:\", numeros)"
   ]
  },
  {
   "cell_type": "code",
   "execution_count": null,
   "id": "f2cc8ace-e7bd-42e1-8314-b0abc4933e8a",
   "metadata": {},
   "outputs": [],
   "source": [
    "#Exercício 8: Faça um Programa que pergunte em que turno você estuda. Peça para digitar M-matutino ou V-Vespertino ou N- Noturno.\n",
    "#Imprima a mensagem \"Bom Dia!\", \"Boa Tarde!\" ou \"Boa Noite!\" ou \"Valor Inválido!\", conforme o caso."
   ]
  },
  {
   "cell_type": "code",
   "execution_count": 62,
   "id": "1b737c69-1c26-4632-9a38-97655af47b21",
   "metadata": {},
   "outputs": [
    {
     "name": "stdin",
     "output_type": "stream",
     "text": [
      "Em que turno você estuda? (M-matutino, V-vespertino, N-noturno):  T\n"
     ]
    },
    {
     "name": "stdout",
     "output_type": "stream",
     "text": [
      "Valor Inválido! Tente novamente.\n"
     ]
    },
    {
     "name": "stdin",
     "output_type": "stream",
     "text": [
      "Em que turno você estuda? (M-matutino, V-vespertino, N-noturno):  v\n"
     ]
    },
    {
     "name": "stdout",
     "output_type": "stream",
     "text": [
      "Boa Tarde!\n"
     ]
    }
   ],
   "source": [
    "while True:\n",
    "    turno = input(\"Em que turno você estuda? (M-matutino, V-vespertino, N-noturno): \").strip().upper()\n",
    "    if turno == 'M':\n",
    "        print(\"Bom Dia!\")\n",
    "        break\n",
    "    elif turno == 'V':\n",
    "        print(\"Boa Tarde!\")\n",
    "        break\n",
    "    elif turno == 'N':\n",
    "        print(\"Boa Noite!\")\n",
    "        break\n",
    "    else:\n",
    "        print(\"Valor Inválido! Tente novamente.\")"
   ]
  },
  {
   "cell_type": "code",
   "execution_count": null,
   "id": "f81c7395-6ba0-4f59-b4f7-4d209e3e5868",
   "metadata": {},
   "outputs": [],
   "source": [
    "#Exercício 9: As Organizações Tabajara resolveram dar um aumento de salário aos seus colaboradores e lhe contraram para\n",
    "#desenvolver o programa que calculará os reajustes.\n",
    "#a. Faça um programa que recebe o salário de um colaborador e o reajuste segundo o seguinte critério, baseado no\n",
    "#salário atual:\n",
    "#b. salários até R$ 280,00 (incluindo) : aumento de 20%\n",
    "#c. salários entre R$ 280,00 e R$ 700,00 : aumento de 15%\n",
    "#d. salários entre R$ 700,00 e R$ 1500,00 : aumento de 10%\n",
    "#e. salários de R$ 1500,00 em diante : aumento de 5% Após o aumento ser realizado, informe na tela:\n",
    "#f. o salário antes do reajuste;\n",
    "#g. o percentual de aumento aplicado;\n",
    "#h. o valor do aumento;\n",
    "#i. o novo salário, após o aumento."
   ]
  },
  {
   "cell_type": "code",
   "execution_count": 11,
   "id": "aab68c93-924e-4eb8-ad9f-ae0e16c3c7fb",
   "metadata": {},
   "outputs": [
    {
     "name": "stdin",
     "output_type": "stream",
     "text": [
      "Digite seu salário atual:  2500\n"
     ]
    },
    {
     "name": "stdout",
     "output_type": "stream",
     "text": [
      "Seu salário antigo era R$2500.0, mas teve um reajuste de 5%.\n",
      "Seu novo salário teve um aumento de R$125.0 e agora seu salário é R$2625.0.\n"
     ]
    }
   ],
   "source": [
    "salario = float(input(\"Digite seu salário atual: \"))\n",
    "\n",
    "if salario <= 280:\n",
    "    novosalario = salario + salario * 0.20\n",
    "    reajuste = salario * 0.20\n",
    "    print(f\"Seu salário antigo era R${salario}, mas teve um reajuste de 20%.\")\n",
    "    print(f\"Seu novo salário teve um aumento de R${reajuste} e agora seu salário é R${novosalario}.\")\n",
    "    \n",
    "elif salario > 280 and salario < 700:\n",
    "    novosalario = salario + salario * 0.15\n",
    "    reajuste = salario * 0.15\n",
    "    print(f\"Seu salário antigo era R${salario}, mas teve um reajuste de 15%.\")\n",
    "    print(f\"Seu novo salário teve um aumento de R${reajuste} e agora seu salário é R${novosalario}.\")\n",
    "    \n",
    "elif salario >= 700 and salario < 1500:\n",
    "    novosalario = salario + salario * 0.10\n",
    "    reajuste = salario * 0.10\n",
    "    print(f\"Seu salário antigo era R${salario}, mas teve um reajuste de 10%.\")\n",
    "    print(f\"Seu novo salário teve um aumento de R${reajuste} e agora seu salário é R${novosalario}.\")\n",
    "    \n",
    "else:\n",
    "    novosalario = salario + salario * 0.05\n",
    "    reajuste = salario * 0.05\n",
    "    print(f\"Seu salário antigo era R${salario}, mas teve um reajuste de 5%.\")\n",
    "    print(f\"Seu novo salário teve um aumento de R${reajuste} e agora seu salário é R${novosalario}.\")"
   ]
  },
  {
   "cell_type": "code",
   "execution_count": null,
   "id": "8420e041-6fba-45ae-b2fd-de7e6f7a7307",
   "metadata": {},
   "outputs": [],
   "source": [
    "#Exercício 10: Faça um programa para o cálculo de uma folha de pagamento, sabendo que os descontos são do Imposto de Renda, que\n",
    "#depende do salário bruto (conforme tabela abaixo) e 3% para o Sindicato e que o FGTS corresponde a 11% do Salário\n",
    "#Bruto, mas não é descontado (é a empresa que deposita). O Salário Líquido corresponde ao Salário Bruto menos os\n",
    "#descontos. O programa deverá pedir ao usuário o valor da sua hora e a quantidade de horas trabalhadas no mês.\n",
    "#a. Desconto do IR:\n",
    "#b. Salário Bruto até 900 (inclusive) - isento\n",
    "#c. Salário Bruto até 1500 (inclusive) - desconto de 5%\n",
    "#d. Salário Bruto até 2500 (inclusive) - desconto de 10%\n",
    "#e. Salário Bruto acima de 2500 - desconto de 20% Imprima na tela as informações, dispostas conforme o exemplo\n",
    "#abaixo. No exemplo o valor da hora é 5 e a quantidade de hora é 220.\n",
    "#f. Salário Bruto: (5 * 220) : R$ 1100,00\n",
    "#g. (-) IR (5%) : R$ 55,00\n",
    "#h. (-) INSS ( 10%) : R$ 110,00\n",
    "#i. FGTS (11%) : R$ 121,00\n",
    "#j. Total de descontos : R$ 165,00\n",
    "#Salário Liquido : R$ 935,00"
   ]
  },
  {
   "cell_type": "code",
   "execution_count": 30,
   "id": "2d2c318f-48cc-406a-af13-838d38cc5ccf",
   "metadata": {},
   "outputs": [
    {
     "name": "stdin",
     "output_type": "stream",
     "text": [
      "Digite o valor hora do funcionário:  16\n",
      "Digite a quantidade de horas trabalhadas:  200\n"
     ]
    },
    {
     "name": "stdout",
     "output_type": "stream",
     "text": [
      "Esse mês você trabalhou 200 horas, R$16.0 cada hora.\n",
      "Seu salário bruto foi de R$3200.00.\n",
      "Seu FGTS ficou em R$352.00, seu IR ficou em R$640.00 e o desconto do Sindicato foi de R$96.00.\n",
      "Total de descontos: R$736.00\n",
      "Seu salário líquido foi de R$2464.00.\n"
     ]
    }
   ],
   "source": [
    "hora = float(input(\"Digite o valor hora do funcionário: \"))\n",
    "tempo = int(input(\"Digite a quantidade de horas trabalhadas: \"))\n",
    "bruto = hora * tempo\n",
    "IR1 = bruto * 0.05\n",
    "IR2 = bruto * 0.1\n",
    "IR3 = bruto * 0.2\n",
    "SIND = bruto * 0.03\n",
    "FGTS = bruto * 0.11\n",
    "if bruto <= 900:\n",
    "    descontos = SIND\n",
    "    liquido = bruto - descontos\n",
    "    print(f\"Esse mês você trabalhou {tempo} horas, R${hora} cada hora.\")\n",
    "    print(f\"Seu salário bruto foi de R${bruto:.2f}.\")\n",
    "    print(f\"Seu FGTS ficou em R${FGTS:.2f}, e o desconto do Sindicato foi de R${SIND:.2f}.\")\n",
    "    print(f\"Total de descontos: R${descontos:.2f}\")\n",
    "    print(f\"Seu salário líquido foi de R${liquido:.2f}.\")\n",
    "\n",
    "elif bruto > 900 and bruto <= 1500:\n",
    "    descontos = IR1 + SIND\n",
    "    liquido = bruto - descontos\n",
    "    print(f\"Esse mês você trabalhou {tempo} horas, R${hora} cada hora.\")\n",
    "    print(f\"Seu salário bruto foi de R${bruto:.2f}.\")\n",
    "    print(f\"Seu FGTS ficou em R${FGTS:.2f}, seu IR ficou em R${IR1:.2f} e o desconto do Sindicato foi de R${SIND:.2f}.\")\n",
    "    print(f\"Total de descontos: R${descontos:.2f}\")\n",
    "    print(f\"Seu salário líquido foi de R${liquido:.2f}.\")\n",
    "\n",
    "elif bruto > 1500 and bruto <= 2500:\n",
    "    descontos = IR2 + SIND\n",
    "    liquido = bruto - descontos\n",
    "    print(f\"Esse mês você trabalhou {tempo} horas, R${hora} cada hora.\")\n",
    "    print(f\"Seu salário bruto foi de R${bruto:.2f}.\")\n",
    "    print(f\"Seu FGTS ficou em R${FGTS:.2f}, seu IR ficou em R${IR2:.2f} e o desconto do Sindicato foi de R${SIND:.2f}.\")\n",
    "    print(f\"Total de descontos: R${descontos:.2f}\")\n",
    "    print(f\"Seu salário líquido foi de R${liquido:.2f}.\")\n",
    "\n",
    "else:\n",
    "    descontos = IR3 + SIND\n",
    "    liquido = bruto - descontos\n",
    "    print(f\"Esse mês você trabalhou {tempo} horas, R${hora} cada hora.\")\n",
    "    print(f\"Seu salário bruto foi de R${bruto:.2f}.\")\n",
    "    print(f\"Seu FGTS ficou em R${FGTS:.2f}, seu IR ficou em R${IR3:.2f} e o desconto do Sindicato foi de R${SIND:.2f}.\")\n",
    "    print(f\"Total de descontos: R${descontos:.2f}\")\n",
    "    print(f\"Seu salário líquido foi de R${liquido:.2f}.\")"
   ]
  },
  {
   "cell_type": "code",
   "execution_count": null,
   "id": "f078db08-0b56-4b32-840b-e12e793e7620",
   "metadata": {},
   "outputs": [],
   "source": [
    "#Exercício 11: Faça um programa que lê as duas notas parciais obtidas por um aluno numa disciplina ao longo de um semestre, e calcule\n",
    "#a sua média. A atribuição de conceitos obedece à tabela abaixo:\n",
    "#a. Média de Aproveitamento Conceito\n",
    "#b. Entre 9.0 e 10.0 A\n",
    "#c. Entre 7.5 e 9.0 B\n",
    "#d. Entre 6.0 e 7.5 C\n",
    "#e. Entre 4.0 e 6.0 D\n",
    "#f. Entre 4.0 e zero E"
   ]
  },
  {
   "cell_type": "code",
   "execution_count": 7,
   "id": "f57f684a-bc41-421f-b430-64d752a667bd",
   "metadata": {},
   "outputs": [
    {
     "name": "stdin",
     "output_type": "stream",
     "text": [
      "Digite a nota do primeiro semestre:  10\n",
      "Digite a nota do segundo semestre:  10\n"
     ]
    },
    {
     "name": "stdout",
     "output_type": "stream",
     "text": [
      "Sua média foi de 10.0, ou seja, A. Parabéns, seu nerd.\n"
     ]
    }
   ],
   "source": [
    "nota1 = float(input(\"Digite a nota do primeiro semestre: \"))\n",
    "nota2 = float(input(\"Digite a nota do segundo semestre: \"))\n",
    "media = (nota1 + nota2) / 2\n",
    "if media < 4:\n",
    "    print(f\"Sua média foi de {media}, ou seja, E. Se esforce mais.\")\n",
    "elif media >=4 and media < 6:\n",
    "    print(f\"Sua média foi de {media}, ou seja, D. Se esforce mais.\")\n",
    "elif media >=6 and media < 7.5:\n",
    "    print(f\"Sua média foi de {media}, ou seja, C. Bem meia boca, mas passou.\")\n",
    "elif media >7.5 and media < 9:\n",
    "    print(f\"Sua média foi de {media}, ou seja, B. Muito bem.\")\n",
    "else:\n",
    "    print(f\"Sua média foi de {media}, ou seja, A. Parabéns, seu nerd.\")"
   ]
  },
  {
   "cell_type": "code",
   "execution_count": null,
   "id": "ce01f20e-241b-43c8-8e4b-27969729e3f1",
   "metadata": {},
   "outputs": [],
   "source": [
    "#Exercício 12: Faça um programa que peça uma nota, entre zero e dez. Mostre uma mensagem caso o valor seja inválido e continue\n",
    "#pedindo até que o usuário informe um valor válido."
   ]
  },
  {
   "cell_type": "code",
   "execution_count": 10,
   "id": "76edd29b-c6fe-44fe-9f3f-3bba1013cb1a",
   "metadata": {},
   "outputs": [
    {
     "name": "stdin",
     "output_type": "stream",
     "text": [
      "Digite uma nota entre 0 e 10:  -19\n"
     ]
    },
    {
     "name": "stdout",
     "output_type": "stream",
     "text": [
      "Valor inválido. Tente novamente.\n"
     ]
    },
    {
     "name": "stdin",
     "output_type": "stream",
     "text": [
      "Digite uma nota entre 0 e 10:  55\n"
     ]
    },
    {
     "name": "stdout",
     "output_type": "stream",
     "text": [
      "Valor inválido. Tente novamente.\n"
     ]
    },
    {
     "name": "stdin",
     "output_type": "stream",
     "text": [
      "Digite uma nota entre 0 e 10:  8\n"
     ]
    },
    {
     "name": "stdout",
     "output_type": "stream",
     "text": [
      "A nota digitada foi 8.0.\n"
     ]
    }
   ],
   "source": [
    "while True:\n",
    "    nota = float(input(\"Digite uma nota entre 0 e 10: \"))\n",
    "    if 0 <= nota <= 10:\n",
    "        print(f\"A nota digitada foi {nota}.\")\n",
    "        break\n",
    "    else:\n",
    "        print(\"Valor inválido. Tente novamente.\")\n"
   ]
  },
  {
   "cell_type": "code",
   "execution_count": null,
   "id": "a4ddfa3c-824f-4a3b-8de8-0c9101c83a2d",
   "metadata": {},
   "outputs": [],
   "source": [
    "#Exercício 13: Faça um programa que leia um nome de usuário e a sua senha e não aceite a senha igual ao nome do usuário, mostrando\n",
    "#uma mensagem de erro e voltando a pedir as informações."
   ]
  },
  {
   "cell_type": "code",
   "execution_count": 14,
   "id": "c1408de1-173b-408f-bd94-d312900df851",
   "metadata": {},
   "outputs": [
    {
     "name": "stdin",
     "output_type": "stream",
     "text": [
      "Digite seu nome de usuário:  Rodrigo\n",
      "Digite sua senha:  rodrigo\n"
     ]
    },
    {
     "name": "stdout",
     "output_type": "stream",
     "text": [
      "Nome de usuário e senha não conferem. Tente novamente.\n"
     ]
    },
    {
     "name": "stdin",
     "output_type": "stream",
     "text": [
      "Digite seu nome de usuário:  Rodrigo\n",
      "Digite sua senha:  Rodrigo\n"
     ]
    },
    {
     "name": "stdout",
     "output_type": "stream",
     "text": [
      "Nome de usuário e senha cadastrados com sucesso.\n"
     ]
    }
   ],
   "source": [
    "while True:\n",
    "    nome = str(input(\"Digite seu nome de usuário: \"))\n",
    "    senha = str(input(\"Digite sua senha: \"))\n",
    "    if nome == senha:\n",
    "        print(\"Nome de usuário e senha cadastrados com sucesso.\")\n",
    "        break\n",
    "    else:\n",
    "        print(\"Nome de usuário e senha não conferem. Tente novamente.\")\n",
    "    "
   ]
  },
  {
   "cell_type": "code",
   "execution_count": null,
   "id": "43f7f80e-cfbd-4c7e-a8ea-b007c0f587c8",
   "metadata": {},
   "outputs": [],
   "source": [
    "#Exercício 14: Faça um programa que leia e valide as seguintes informações:\n",
    "#a. Nome: maior que 3 caracteres;\n",
    "#b. Idade: entre 0 e 150;\n",
    "#c. Salário: maior que zero;\n",
    "#d. Sexo: 'f' ou 'm';\n",
    "#e. Estado Civil: 's', 'c', 'v', 'd';"
   ]
  },
  {
   "cell_type": "code",
   "execution_count": 23,
   "id": "af06c12a-d530-463b-bab4-6bf7db7ef1f4",
   "metadata": {},
   "outputs": [
    {
     "name": "stdin",
     "output_type": "stream",
     "text": [
      "Digite seu nome (mais de 3 caracteres):  Rodrigo\n",
      "Digite sua idade (entre 0 e 150):  45\n",
      "Digite seu salário (maior que zero):  3400\n",
      "Digite seu sexo (f ou m):  m\n",
      "Digite seu estado civil (s, c, v ou d):  s\n"
     ]
    },
    {
     "name": "stdout",
     "output_type": "stream",
     "text": [
      "\n",
      "Seu nome é Rodrigo, você tem 45 anos, recebe R$3400.00, se identifica como homem e está atualmente solteiro(a).\n"
     ]
    }
   ],
   "source": [
    "while True:\n",
    "    nome = input(\"Digite seu nome (mais de 3 caracteres): \")\n",
    "    if len(nome) <= 3:\n",
    "        print(\"O nome deve ter mais de 3 caracteres. Tente de novo.\")\n",
    "        continue\n",
    "\n",
    "    idade = int(input(\"Digite sua idade (entre 0 e 150): \"))\n",
    "    if idade < 0 or idade > 150:\n",
    "        print(\"Idade inválida. Digite um valor entre 0 e 150.\")\n",
    "        continue\n",
    "\n",
    "    salario = float(input(\"Digite seu salário (maior que zero): \"))\n",
    "    if salario <= 0:\n",
    "        print(\"Salário inválido. Ninguém pode receber R$ 0,00 de salário.\")\n",
    "        continue\n",
    "\n",
    "    sexo = input(\"Digite seu sexo (f ou m): \").lower()\n",
    "    if sexo not in (\"f\", \"m\"):\n",
    "        print(\"Sexo inválido: Digite apenas 'f' para feminino ou 'm' para masculino.\")\n",
    "        continue\n",
    "\n",
    "    estado = input(\"Digite seu estado civil (s, c, v ou d): \").lower()\n",
    "    if estado not in (\"s\", \"c\", \"v\", \"d\"):\n",
    "        print(\"Estado Civil inválido: Escolha entre 's', 'c', 'v' ou 'd'.\")\n",
    "        continue\n",
    "\n",
    "    sexo = \"mulher\" if sexo == \"f\" else \"homem\"\n",
    "    estado_civil = {\n",
    "        \"s\": \"solteiro(a)\",\n",
    "        \"c\": \"casado(a)\",\n",
    "        \"v\": \"viúvo(a)\",\n",
    "        \"d\": \"divorciado(a)\"\n",
    "    }[estado]\n",
    "\n",
    "    # Exibindo os dados validados:\n",
    "    print(f\"\\nSeu nome é {nome}, você tem {idade} anos, recebe R${salario:.2f}, se identifica como {sexo} e está atualmente {estado_civil}.\")\n",
    "    break"
   ]
  },
  {
   "cell_type": "code",
   "execution_count": null,
   "id": "b7388e02-edef-42ae-9f1a-e462f4e00fcd",
   "metadata": {},
   "outputs": [],
   "source": [
    "#Exercício 15: Supondo que a população de um país A seja da ordem de 80000 habitantes com uma taxa anual de crescimento de 3% e\n",
    "#que a população de B seja 200000 habitantes com uma taxa de crescimento de 1.5%. Faça um programa que calcule e\n",
    "#escreva o número de anos necessários para que a população do país A ultrapasse ou iguale a população do país B,\n",
    "#mantidas as taxas de crescimento."
   ]
  },
  {
   "cell_type": "code",
   "execution_count": 24,
   "id": "58f95d23-12d6-42ed-b571-f1d63fbe6dcc",
   "metadata": {},
   "outputs": [
    {
     "name": "stdout",
     "output_type": "stream",
     "text": [
      "Anos necessários: 63\n",
      "População final do país A: 515033\n",
      "População final do país B: 510964\n"
     ]
    }
   ],
   "source": [
    "populacao_A = 80000\n",
    "populacao_B = 200000\n",
    "anos = 0\n",
    "while populacao_A < populacao_B:\n",
    "    populacao_A *= 1.03\n",
    "    populacao_B *= 1.015\n",
    "    anos += 1\n",
    "\n",
    "print(f'Anos necessários: {anos}')\n",
    "print(f'População final do país A: {int(populacao_A)}')\n",
    "print(f'População final do país B: {int(populacao_B)}')\n"
   ]
  },
  {
   "cell_type": "code",
   "execution_count": null,
   "id": "0b7e3511-6d81-4d02-aa09-57bfb5e7b417",
   "metadata": {},
   "outputs": [],
   "source": [
    "#Exercício 16: Faça um programa que leia 5 números e informe a soma e a média dos números."
   ]
  },
  {
   "cell_type": "code",
   "execution_count": 26,
   "id": "26cdd367-5c94-4aa4-99d9-da018de542da",
   "metadata": {},
   "outputs": [
    {
     "name": "stdin",
     "output_type": "stream",
     "text": [
      "Digite um número:  4\n",
      "Digite um número:  9\n",
      "Digite um número:  15\n",
      "Digite um número:  67\n",
      "Digite um número:  54\n"
     ]
    },
    {
     "name": "stdout",
     "output_type": "stream",
     "text": [
      "O maior número digitado foi: 67.0\n",
      "A média dos números é 29.8.\n"
     ]
    }
   ],
   "source": [
    "numeros = []\n",
    "for _ in range(1, 6):\n",
    "    numero = float(input(\"Digite um número: \"))\n",
    "    numeros.append(numero)\n",
    "maior_numero = max(numeros)\n",
    "soma = sum(numeros)\n",
    "media = soma / 5\n",
    "print(f\"O maior número digitado foi: {maior_numero}\")\n",
    "print(f\"A média dos números é {media}.\")"
   ]
  },
  {
   "cell_type": "code",
   "execution_count": null,
   "id": "2a9f65ee-7bb7-4b21-95db-a2780c250c8c",
   "metadata": {},
   "outputs": [],
   "source": [
    "#Exercício 17: Desenvolva um gerador de tabuada, capaz de gerar a tabuada de qualquer número inteiro entre 1 a 10. O usuário deve\n",
    "#informar de qual numero ele deseja ver a tabuada. A saída deve ser conforme o exemplo abaixo:\n",
    "#a. Tabuada de 5:\n",
    "#b. 5 X 1 = 5\n",
    "#c. 5 X 2 = 10\n",
    "#d. ...\n",
    "#e. 5 X 10 = 50"
   ]
  },
  {
   "cell_type": "code",
   "execution_count": 30,
   "id": "ec54d3c1-cb9b-475c-a8b8-fe6d216c7517",
   "metadata": {},
   "outputs": [
    {
     "name": "stdin",
     "output_type": "stream",
     "text": [
      "Digite um número entre 1 e 10 para ver a tabuada:  4\n"
     ]
    },
    {
     "name": "stdout",
     "output_type": "stream",
     "text": [
      "\n",
      "Tabuada de 4:\n",
      "4 X 1 = 4\n",
      "4 X 2 = 8\n",
      "4 X 3 = 12\n",
      "4 X 4 = 16\n",
      "4 X 5 = 20\n",
      "4 X 6 = 24\n",
      "4 X 7 = 28\n",
      "4 X 8 = 32\n",
      "4 X 9 = 36\n",
      "4 X 10 = 40\n"
     ]
    }
   ],
   "source": [
    "n = int(input(\"Digite um número entre 1 e 10 para ver a tabuada: \"))\n",
    "\n",
    "print(f\"\\nTabuada de {n}:\")\n",
    "for i in range(1, 11):\n",
    "    resultado = i * n\n",
    "    print(f\"{n} X {i} = {resultado}\")"
   ]
  },
  {
   "cell_type": "code",
   "execution_count": null,
   "id": "69f9d299-b87b-46b0-a3f2-549fd4fd51be",
   "metadata": {},
   "outputs": [],
   "source": [
    "#Exercício 18: A série de Fibonacci é formada pela seqüência 1,1,2,3,5,8,13,21,34,55,... Faça um programa capaz de gerar a série até o\n",
    "#n−ésimo termo."
   ]
  },
  {
   "cell_type": "code",
   "execution_count": 31,
   "id": "4c5647c9-fcbe-490a-ba94-63ed7d8f90c7",
   "metadata": {},
   "outputs": [
    {
     "name": "stdin",
     "output_type": "stream",
     "text": [
      "Quantos termos da série de Fibonacci você deseja ver?  25\n"
     ]
    },
    {
     "name": "stdout",
     "output_type": "stream",
     "text": [
      "Série de Fibonacci:\n",
      "[1, 1, 2, 3, 5, 8, 13, 21, 34, 55, 89, 144, 233, 377, 610, 987, 1597, 2584, 4181, 6765, 10946, 17711, 28657, 46368, 75025]\n"
     ]
    }
   ],
   "source": [
    "n = int(input(\"Quantos termos da série de Fibonacci você deseja ver? \"))\n",
    "\n",
    "# Verificação simples para valores menores que 1\n",
    "if n <= 0:\n",
    "    print(\"Por favor, digite um valor maior que 0.\")\n",
    "else:\n",
    "    # Inicializando os dois primeiros termos\n",
    "    fibonacci = [1, 1]\n",
    "\n",
    "    # Gerando a série até o n-ésimo termo\n",
    "    for i in range(2, n):\n",
    "        proximo_termo = fibonacci[i - 1] + fibonacci[i - 2]\n",
    "        fibonacci.append(proximo_termo)\n",
    "\n",
    "    # Exibindo a série\n",
    "    print(\"Série de Fibonacci:\")\n",
    "    print(fibonacci[:n])\n"
   ]
  },
  {
   "cell_type": "code",
   "execution_count": null,
   "id": "27eafc9c-ecc5-4b89-96e4-27baf30322ed",
   "metadata": {},
   "outputs": [],
   "source": [
    "#Exercício 19: Faça um programa que calcule o mostre a média aritmética de N notas."
   ]
  },
  {
   "cell_type": "code",
   "execution_count": 35,
   "id": "e17c6a82-e738-42ef-b3bd-0c04a93985b1",
   "metadata": {},
   "outputs": [
    {
     "name": "stdin",
     "output_type": "stream",
     "text": [
      "Digite a quantidade de notas a serem calculadas:  5\n",
      "Digite a nota 1:  4\n",
      "Digite a nota 2:  9\n",
      "Digite a nota 3:  8\n",
      "Digite a nota 4:  7\n",
      "Digite a nota 5:  5\n"
     ]
    },
    {
     "name": "stdout",
     "output_type": "stream",
     "text": [
      "A média das notas é: 6.60\n"
     ]
    }
   ],
   "source": [
    "notas = []\n",
    "qtdd = int(input(\"Digite a quantidade de notas a serem calculadas: \"))\n",
    "for i in range(qtdd):\n",
    "    nota = float(input(f\"Digite a nota {i + 1}: \"))\n",
    "    notas.append(nota)\n",
    "media = sum(notas) / qtdd\n",
    "print(f\"A média das notas é: {media:.2f}\")"
   ]
  },
  {
   "cell_type": "code",
   "execution_count": null,
   "id": "6b068810-81ba-49c4-b33d-14fb71a7364e",
   "metadata": {},
   "outputs": [],
   "source": [
    "#Exercício 20: O Sr. Manoel Joaquim possui uma grande loja de artigos de R$ 1,99, com cerca de 10 caixas. Para agilizar o cálculo de\n",
    "#quanto cada cliente deve pagar ele desenvolveu um tabela que contém o número de itens que o cliente comprou e ao lado\n",
    "#o valor da conta. Desta forma a atendente do caixa precisa apenas contar quantos itens o cliente está levando e olhar na\n",
    "#tabela de preços. Você foi contratado para desenvolver o programa que monta esta tabela de preços, que conterá os preços\n",
    "#de 1 até 50 produtos, conforme o exemplo abaixo:\n",
    "#a. Lojas Quase Dois - Tabela de preços\n",
    "#b. 1 - R$ 1.99\n",
    "#c. 2 - R$ 3.98\n",
    "#d. ...\n",
    "#e. 50 - R$ 99.50\n"
   ]
  },
  {
   "cell_type": "code",
   "execution_count": 36,
   "id": "d0f04f32-46f5-4930-828f-894a23c671ff",
   "metadata": {},
   "outputs": [
    {
     "name": "stdout",
     "output_type": "stream",
     "text": [
      "Lojas Quase Dois - Tabela de Preços\n",
      "-----------------------------------\n",
      "1 - R$ 1.99\n",
      "2 - R$ 3.98\n",
      "3 - R$ 5.97\n",
      "4 - R$ 7.96\n",
      "5 - R$ 9.95\n",
      "6 - R$ 11.94\n",
      "7 - R$ 13.93\n",
      "8 - R$ 15.92\n",
      "9 - R$ 17.91\n",
      "10 - R$ 19.90\n",
      "11 - R$ 21.89\n",
      "12 - R$ 23.88\n",
      "13 - R$ 25.87\n",
      "14 - R$ 27.86\n",
      "15 - R$ 29.85\n",
      "16 - R$ 31.84\n",
      "17 - R$ 33.83\n",
      "18 - R$ 35.82\n",
      "19 - R$ 37.81\n",
      "20 - R$ 39.80\n",
      "21 - R$ 41.79\n",
      "22 - R$ 43.78\n",
      "23 - R$ 45.77\n",
      "24 - R$ 47.76\n",
      "25 - R$ 49.75\n",
      "26 - R$ 51.74\n",
      "27 - R$ 53.73\n",
      "28 - R$ 55.72\n",
      "29 - R$ 57.71\n",
      "30 - R$ 59.70\n",
      "31 - R$ 61.69\n",
      "32 - R$ 63.68\n",
      "33 - R$ 65.67\n",
      "34 - R$ 67.66\n",
      "35 - R$ 69.65\n",
      "36 - R$ 71.64\n",
      "37 - R$ 73.63\n",
      "38 - R$ 75.62\n",
      "39 - R$ 77.61\n",
      "40 - R$ 79.60\n",
      "41 - R$ 81.59\n",
      "42 - R$ 83.58\n",
      "43 - R$ 85.57\n",
      "44 - R$ 87.56\n",
      "45 - R$ 89.55\n",
      "46 - R$ 91.54\n",
      "47 - R$ 93.53\n",
      "48 - R$ 95.52\n",
      "49 - R$ 97.51\n",
      "50 - R$ 99.50\n"
     ]
    }
   ],
   "source": [
    "print(\"Lojas Quase Dois - Tabela de Preços\")\n",
    "print(\"-\" * 35)\n",
    "\n",
    "# Loop para gerar a tabela de preços\n",
    "for quantidade in range(1, 51):\n",
    "    preco = quantidade * 1.99\n",
    "    print(f\"{quantidade} - R$ {preco:.2f}\")"
   ]
  },
  {
   "cell_type": "code",
   "execution_count": null,
   "id": "609199f4-8186-4f8a-927d-25f084b7f8b0",
   "metadata": {},
   "outputs": [],
   "source": [
    "#O Departamento Estadual de Meteorologia lhe contratou para desenvolver um programa que leia as um conjunto indeterminado de\n",
    "#temperaturas, e informe ao final a menor e a maior temperaturas informadas, bem como a média das temperaturas."
   ]
  },
  {
   "cell_type": "code",
   "execution_count": 43,
   "id": "22de3856-d0fb-4f65-875d-b757164417e6",
   "metadata": {},
   "outputs": [
    {
     "name": "stdin",
     "output_type": "stream",
     "text": [
      "Digite a quantidade de temperaturas a serem calculadas:  4\n",
      "Digite uma temperatura 1:  15\n",
      "Digite uma temperatura 2:  23\n",
      "Digite uma temperatura 3:  34\n",
      "Digite uma temperatura 4:  40\n"
     ]
    },
    {
     "name": "stdout",
     "output_type": "stream",
     "text": [
      "A média das temperaturas é: 28.00\n",
      "A maior temperatura é a 40.0, enquanto a menor temperatura é a 15.0.\n"
     ]
    }
   ],
   "source": [
    "temperaturas = []\n",
    "qtdd = int(input(\"Digite a quantidade de temperaturas a serem calculadas: \"))\n",
    "for i in range(qtdd):\n",
    "    temperatura = float(input(f\"Digite uma temperatura {i + 1}: \"))\n",
    "    temperaturas.append(temperatura)\n",
    "media = sum(temperaturas) / qtdd\n",
    "tempmax = max(temperaturas)\n",
    "tempmin = min(temperaturas)\n",
    "print(f\"A média das temperaturas é: {media:.2f}\")\n",
    "print(f\"A maior temperatura é a {tempmax}, enquanto a menor temperatura é a {tempmin}.\")"
   ]
  },
  {
   "cell_type": "code",
   "execution_count": null,
   "id": "df9c0a96-3e19-44b5-935c-b6be2514c17d",
   "metadata": {},
   "outputs": [],
   "source": []
  }
 ],
 "metadata": {
  "kernelspec": {
   "display_name": "Python 3 (ipykernel)",
   "language": "python",
   "name": "python3"
  },
  "language_info": {
   "codemirror_mode": {
    "name": "ipython",
    "version": 3
   },
   "file_extension": ".py",
   "mimetype": "text/x-python",
   "name": "python",
   "nbconvert_exporter": "python",
   "pygments_lexer": "ipython3",
   "version": "3.12.7"
  }
 },
 "nbformat": 4,
 "nbformat_minor": 5
}
