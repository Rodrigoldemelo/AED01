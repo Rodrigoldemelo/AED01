{
 "cells": [
  {
   "cell_type": "markdown",
   "metadata": {},
   "source": [
    "![Algoritmos e Estrutura de Dados I](AED1_banner.jpg)"
   ]
  },
  {
   "cell_type": "markdown",
   "metadata": {},
   "source": [
    "## <font color='blue'>Algoritmos e Estrutura de Dados I</font>\n",
    "## <font color='blue'>Aula 9 -  Revisão</font>"
   ]
  },
  {
   "cell_type": "code",
   "execution_count": null,
   "metadata": {},
   "outputs": [],
   "source": [
    "# Versão da Linguagem Python\n",
    "from platform import python_version\n",
    "print('Versão da Linguagem Python Usada Neste Jupyter Notebook:', python_version())"
   ]
  },
  {
   "cell_type": "markdown",
   "metadata": {},
   "source": [
    "## Estrutura sequencial"
   ]
  },
  {
   "cell_type": "markdown",
   "metadata": {},
   "source": [
    "Escreva um programa em Python que solicite ao usuário o valor de dois números, calcule e exiba a soma deles."
   ]
  },
  {
   "cell_type": "code",
   "execution_count": 4,
   "metadata": {},
   "outputs": [
    {
     "name": "stdin",
     "output_type": "stream",
     "text": [
      "Digite o primeiro valor:  4\n",
      "Digite o segundo valor:  8\n"
     ]
    },
    {
     "name": "stdout",
     "output_type": "stream",
     "text": [
      "A soma de 4 + 8 é 12.\n"
     ]
    }
   ],
   "source": [
    "n1 = int(input(\"Digite o primeiro valor: \"))\n",
    "n2 = int(input(\"Digite o segundo valor: \"))\n",
    "soma = n1 + n2\n",
    "print(f\"A soma de {n1} + {n2} é {soma}.\")"
   ]
  },
  {
   "attachments": {},
   "cell_type": "markdown",
   "metadata": {},
   "source": [
    "Escreva um programa em Python que solicite ao usuário a temperatura em graus Celsius e converta para Fahrenheit. A fórmula para conversão é F = C * 9/5 + 32.\n"
   ]
  },
  {
   "cell_type": "code",
   "execution_count": 6,
   "metadata": {},
   "outputs": [
    {
     "name": "stdin",
     "output_type": "stream",
     "text": [
      "Digite uma temperatuda em Celsius para conversar para Fahrenheit:  36.2\n"
     ]
    },
    {
     "name": "stdout",
     "output_type": "stream",
     "text": [
      "A temperatura 36.2 Celsius em Fahrenheit é 97.16\n"
     ]
    }
   ],
   "source": [
    "tempc = float(input(\"Digite uma temperatuda em Celsius para conversar para Fahrenheit: \"))\n",
    "tempf = tempc *9/5 + 32\n",
    "print(f\"A temperatura {tempc} Celsius em Fahrenheit é {tempf}\")"
   ]
  },
  {
   "cell_type": "markdown",
   "metadata": {},
   "source": [
    "## Estrutura Condicional"
   ]
  },
  {
   "cell_type": "markdown",
   "metadata": {},
   "source": [
    "Escreva um programa em Python que solicite ao usuário um número e verifique se ele é positivo, negativo ou zero. Exiba a mensagem correspondente.\n"
   ]
  },
  {
   "cell_type": "code",
   "execution_count": 9,
   "metadata": {},
   "outputs": [
    {
     "name": "stdin",
     "output_type": "stream",
     "text": [
      "Digite um valor qualquer  0\n"
     ]
    },
    {
     "name": "stdout",
     "output_type": "stream",
     "text": [
      "O valor digitado é zero.\n"
     ]
    }
   ],
   "source": [
    "n = float(input(\"Digite um valor qualquer \"))\n",
    "if n < 0:\n",
    "    print(\"O valor digitado é negativo.\")\n",
    "elif n > 0:\n",
    "    print(\"O valor digitado é positivo.\")\n",
    "else:\n",
    "    print(\"O valor digitado é zero.\")"
   ]
  },
  {
   "cell_type": "markdown",
   "metadata": {},
   "source": [
    "Escreva um programa em Python que solicite ao usuário três números e determine qual é o maior entre eles.\n"
   ]
  },
  {
   "cell_type": "code",
   "execution_count": 11,
   "metadata": {},
   "outputs": [
    {
     "name": "stdin",
     "output_type": "stream",
     "text": [
      "Digite o primeiro número:  5\n",
      "Digite o segundo número:  7\n",
      "Digite o terceiro número:  13\n"
     ]
    },
    {
     "name": "stdout",
     "output_type": "stream",
     "text": [
      "O maior número é o 13.\n"
     ]
    }
   ],
   "source": [
    "n1 = int(input(\"Digite o primeiro número: \"))\n",
    "n2 = int(input(\"Digite o segundo número: \"))\n",
    "n3 = int(input(\"Digite o terceiro número: \"))\n",
    "\n",
    "numeros = []\n",
    "numeros.append(n1)\n",
    "numeros.append(n2)\n",
    "numeros.append(n3)\n",
    "maior = max(numeros)\n",
    "print(f\"O maior número é o {maior}.\")\n"
   ]
  },
  {
   "cell_type": "markdown",
   "metadata": {},
   "source": [
    "## Estrutura de Repetição"
   ]
  },
  {
   "cell_type": "markdown",
   "metadata": {},
   "source": [
    "Escreva um programa em Python que exiba todos os números de 1 a 10.\n"
   ]
  },
  {
   "cell_type": "code",
   "execution_count": 17,
   "metadata": {},
   "outputs": [
    {
     "name": "stdout",
     "output_type": "stream",
     "text": [
      "Números de 1 a 10 usando for:\n",
      "1 2 3 4 5 6 7 8 9 10 "
     ]
    }
   ],
   "source": [
    "print(\"Números de 1 a 10 usando for:\")\n",
    "for i in range(1, 11):\n",
    "    print(i, end=\" \")"
   ]
  },
  {
   "cell_type": "markdown",
   "metadata": {},
   "source": [
    "Escreva um programa em Python que solicite ao usuário um número inteiro positivo e calcule o fatorial desse número.\n"
   ]
  },
  {
   "cell_type": "code",
   "execution_count": 26,
   "metadata": {},
   "outputs": [
    {
     "name": "stdin",
     "output_type": "stream",
     "text": [
      "Digite um valor inteiro e positivo:  8\n"
     ]
    },
    {
     "name": "stdout",
     "output_type": "stream",
     "text": [
      "1 2 6 24 120 720 5040 40320 "
     ]
    }
   ],
   "source": [
    "n = int(input(\"Digite um valor inteiro e positivo: \"))\n",
    "if n <= 0:\n",
    "    print(\"Esse valor é negativo ou zero. Tente de novo.\")\n",
    "else:\n",
    "    fatorial = 1\n",
    "    for i in range (1, n + 1):\n",
    "        fatorial *= i\n",
    "        print(fatorial, end=\" \")\n",
    "\n"
   ]
  },
  {
   "cell_type": "markdown",
   "metadata": {},
   "source": [
    "## Geral"
   ]
  },
  {
   "cell_type": "markdown",
   "metadata": {},
   "source": [
    "Você é um cientista de dados e precisa analisar as notas de um conjunto de estudantes em uma disciplina. Você deverá escrever um programa em Python que solicite ao usuário o número de estudantes e, em seguida, as notas desses estudantes. O programa deve calcular e exibir:\n",
    "\n",
    "- A média das notas.\n",
    "- A maior e a menor nota.\n",
    "- O número de estudantes aprovados (nota maior ou igual a 6) e reprovados (nota menor que 6).\n",
    "\n",
    "Regras:\n",
    "\n",
    "- Utilize variáveis simples para armazenar as informações.\n",
    "- Utilize estruturas de repetição para coletar as notas dos estudantes.\n",
    "- Utilize estruturas condicionais para determinar o status de aprovação dos estudantes."
   ]
  },
  {
   "cell_type": "code",
   "execution_count": 30,
   "metadata": {},
   "outputs": [
    {
     "name": "stdin",
     "output_type": "stream",
     "text": [
      "Digite a quantidade total de estudantes:  8\n",
      "Digite a nota do estudante 1:  9\n",
      "Digite a nota do estudante 2:  5\n",
      "Digite a nota do estudante 3:  7\n",
      "Digite a nota do estudante 4:  8.5\n",
      "Digite a nota do estudante 5:  4\n",
      "Digite a nota do estudante 6:  6\n",
      "Digite a nota do estudante 7:  8\n",
      "Digite a nota do estudante 8:  7\n"
     ]
    },
    {
     "name": "stdout",
     "output_type": "stream",
     "text": [
      "\n",
      "A média da turma foi: 6.81\n",
      "A maior nota foi: 9.0\n",
      "A menor nota foi: 4.0\n",
      "Quantidade de estudantes aprovados: 6\n",
      "Quantidade de estudantes reprovados: 2\n"
     ]
    }
   ],
   "source": [
    "qtdd = int(input(\"Digite a quantidade total de estudantes: \"))\n",
    "notas = []\n",
    "aprovados = 0\n",
    "reprovados = 0\n",
    "for i in range(qtdd):\n",
    "    nota = float(input(f\"Digite a nota do estudante {i + 1}: \"))\n",
    "    notas.append(nota)\n",
    "    if nota >= 6:\n",
    "        aprovados += 1\n",
    "    else:\n",
    "        reprovados += 1\n",
    "media = sum(notas) / qtdd\n",
    "maior_nota = max(notas)\n",
    "menor_nota = min(notas)\n",
    "print(f\"\\nA média da turma foi: {media:.2f}\")\n",
    "print(f\"A maior nota foi: {maior_nota}\")\n",
    "print(f\"A menor nota foi: {menor_nota}\")\n",
    "print(f\"Quantidade de estudantes aprovados: {aprovados}\")\n",
    "print(f\"Quantidade de estudantes reprovados: {reprovados}\")"
   ]
  },
  {
   "cell_type": "markdown",
   "metadata": {},
   "source": [
    "Faça um programa que receba um número inteiro positivo e transforme esse número para binário."
   ]
  },
  {
   "cell_type": "code",
   "execution_count": 32,
   "metadata": {},
   "outputs": [
    {
     "name": "stdin",
     "output_type": "stream",
     "text": [
      "Digite um número inteiro e positivo:  23\n"
     ]
    },
    {
     "name": "stdout",
     "output_type": "stream",
     "text": [
      "O valor em binário é: 10111\n"
     ]
    }
   ],
   "source": [
    "n = int(input(\"Digite um número inteiro e positivo: \"))\n",
    "if n <= 0:\n",
    "    print(\"Esse número não é positivo. Tente de novo.\")\n",
    "else:\n",
    "    binario = \"\"\n",
    "\n",
    "    while n > 0:\n",
    "        resto = n % 2\n",
    "        binario = str(resto) + binario\n",
    "        n = n // 2\n",
    "\n",
    "    print(f\"O valor em binário é: {binario}\")"
   ]
  },
  {
   "cell_type": "markdown",
   "metadata": {},
   "source": [
    "## Fim da Aula 9"
   ]
  }
 ],
 "metadata": {
  "kernelspec": {
   "display_name": "Python 3 (ipykernel)",
   "language": "python",
   "name": "python3"
  },
  "language_info": {
   "codemirror_mode": {
    "name": "ipython",
    "version": 3
   },
   "file_extension": ".py",
   "mimetype": "text/x-python",
   "name": "python",
   "nbconvert_exporter": "python",
   "pygments_lexer": "ipython3",
   "version": "3.12.7"
  }
 },
 "nbformat": 4,
 "nbformat_minor": 4
}
